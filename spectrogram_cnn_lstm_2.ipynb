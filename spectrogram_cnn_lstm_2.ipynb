{
  "nbformat": 4,
  "nbformat_minor": 0,
  "metadata": {
    "colab": {
      "provenance": [],
      "machine_shape": "hm",
      "authorship_tag": "ABX9TyOondRCi8ueqNSy8DJWtGRN",
      "include_colab_link": true
    },
    "kernelspec": {
      "name": "python3",
      "display_name": "Python 3"
    },
    "language_info": {
      "name": "python"
    },
    "accelerator": "GPU",
    "gpuClass": "standard"
  },
  "cells": [
    {
      "cell_type": "markdown",
      "metadata": {
        "id": "view-in-github",
        "colab_type": "text"
      },
      "source": [
        "<a href=\"https://colab.research.google.com/github/HaJunYoo/Audio_Speech_Processing_Study/blob/main/%08spectrogram_cnn_lstm_2.ipynb\" target=\"_parent\"><img src=\"https://colab.research.google.com/assets/colab-badge.svg\" alt=\"Open In Colab\"/></a>"
      ]
    },
    {
      "cell_type": "code",
      "source": [
        "cd /content/drive/MyDrive/졸플/Audio_study/"
      ],
      "metadata": {
        "colab": {
          "base_uri": "https://localhost:8080/"
        },
        "id": "JKcX3bhf4PeS",
        "outputId": "ef59f5ae-c0cf-4431-b5f9-4223f3c03a05"
      },
      "execution_count": 12,
      "outputs": [
        {
          "output_type": "stream",
          "name": "stdout",
          "text": [
            "/content/drive/MyDrive/졸플/Audio_study\n"
          ]
        }
      ]
    },
    {
      "cell_type": "code",
      "source": [
        "pwd"
      ],
      "metadata": {
        "colab": {
          "base_uri": "https://localhost:8080/",
          "height": 36
        },
        "id": "tf1-dZU_4ljf",
        "outputId": "f9f07ebe-2dae-4e02-800f-c8bf93d91e00"
      },
      "execution_count": 13,
      "outputs": [
        {
          "output_type": "execute_result",
          "data": {
            "text/plain": [
              "'/content/drive/MyDrive/졸플/Audio_study'"
            ],
            "application/vnd.google.colaboratory.intrinsic+json": {
              "type": "string"
            }
          },
          "metadata": {},
          "execution_count": 13
        }
      ]
    },
    {
      "cell_type": "code",
      "source": [
        "ls"
      ],
      "metadata": {
        "colab": {
          "base_uri": "https://localhost:8080/"
        },
        "id": "nVYzIjgW4o_M",
        "outputId": "d2c04489-edf5-40d0-b669-f25caac2c92c"
      },
      "execution_count": 14,
      "outputs": [
        {
          "output_type": "stream",
          "name": "stdout",
          "text": [
            "'1.강제추행(성범죄)_17951.json'       ' sample-cnn-lstm.ipynb'\n",
            " Audio_classification_tutorial.ipynb  'Speaker Recognition.ipynb'\n",
            " Audio_Processing.ipynb                \u001b[0m\u001b[01;34mspectrogram\u001b[0m/\n",
            " \u001b[01;34mdata\u001b[0m/                                 \u001b[01;34mspectrogram_fixed\u001b[0m/\n",
            " json2csv.ipynb                        \u001b[01;34mspectrograms\u001b[0m/\n",
            "' sample-cnn-lstm-2.ipynb'            ' spectrogram 저장.ipynb'\n"
          ]
        }
      ]
    },
    {
      "cell_type": "code",
      "source": [
        "!sudo apt-get install tree"
      ],
      "metadata": {
        "colab": {
          "base_uri": "https://localhost:8080/"
        },
        "id": "YNVVImXU47Mh",
        "outputId": "606f987e-92e9-4432-88c6-4d6a7ba8bd8b"
      },
      "execution_count": 9,
      "outputs": [
        {
          "output_type": "stream",
          "name": "stdout",
          "text": [
            "Reading package lists... Done\n",
            "Building dependency tree       \n",
            "Reading state information... Done\n",
            "The following NEW packages will be installed:\n",
            "  tree\n",
            "0 upgraded, 1 newly installed, 0 to remove and 19 not upgraded.\n",
            "Need to get 43.0 kB of archives.\n",
            "After this operation, 115 kB of additional disk space will be used.\n",
            "Get:1 http://archive.ubuntu.com/ubuntu focal/universe amd64 tree amd64 1.8.0-1 [43.0 kB]\n",
            "Fetched 43.0 kB in 1s (51.8 kB/s)\n",
            "debconf: unable to initialize frontend: Dialog\n",
            "debconf: (No usable dialog-like program is installed, so the dialog based frontend cannot be used. at /usr/share/perl5/Debconf/FrontEnd/Dialog.pm line 76, <> line 1.)\n",
            "debconf: falling back to frontend: Readline\n",
            "debconf: unable to initialize frontend: Readline\n",
            "debconf: (This frontend requires a controlling tty.)\n",
            "debconf: falling back to frontend: Teletype\n",
            "dpkg-preconfigure: unable to re-open stdin: \n",
            "Selecting previously unselected package tree.\n",
            "(Reading database ... 128208 files and directories currently installed.)\n",
            "Preparing to unpack .../tree_1.8.0-1_amd64.deb ...\n",
            "Unpacking tree (1.8.0-1) ...\n",
            "Setting up tree (1.8.0-1) ...\n",
            "Processing triggers for man-db (2.9.1-1) ...\n"
          ]
        }
      ]
    },
    {
      "cell_type": "code",
      "source": [
        "!tree -d ./spectrograms"
      ],
      "metadata": {
        "colab": {
          "base_uri": "https://localhost:8080/"
        },
        "id": "_e2E3RDH4rZu",
        "outputId": "a3468ef0-57ea-4e62-849b-4d076cc5dca9"
      },
      "execution_count": 15,
      "outputs": [
        {
          "output_type": "stream",
          "name": "stdout",
          "text": [
            "\u001b[01;34m./spectrograms\u001b[00m\n",
            "├── \u001b[01;34mexterior\u001b[00m\n",
            "├── \u001b[01;34mhelp\u001b[00m\n",
            "├── \u001b[01;34minterior\u001b[00m\n",
            "├── \u001b[01;34mrobbery\u001b[00m\n",
            "├── \u001b[01;34msexual\u001b[00m\n",
            "├── \u001b[01;34mtheft\u001b[00m\n",
            "└── \u001b[01;34mviolence\u001b[00m\n",
            "\n",
            "7 directories\n"
          ]
        }
      ]
    },
    {
      "cell_type": "code",
      "source": [
        "from google.colab import drive\n",
        "drive.mount('/content/drive')"
      ],
      "metadata": {
        "colab": {
          "base_uri": "https://localhost:8080/"
        },
        "id": "0ohMFSzm4RWJ",
        "outputId": "14013ed1-5ff9-4dc7-874c-6172a7b445c3"
      },
      "execution_count": 1,
      "outputs": [
        {
          "output_type": "stream",
          "name": "stdout",
          "text": [
            "Mounted at /content/drive\n"
          ]
        }
      ]
    },
    {
      "cell_type": "code",
      "source": [
        "import numpy as np\n",
        "import pandas as pd\n",
        "import matplotlib.pyplot as plt\n",
        "import itertools\n",
        "\n",
        "import librosa\n",
        "import librosa.display\n",
        "import torch\n",
        "import torchaudio\n",
        "import IPython.display as ipd\n",
        "\n",
        "\n",
        "plt.style.use('seaborn-white')\n"
      ],
      "metadata": {
        "id": "Qi3CiOioHaki"
      },
      "execution_count": null,
      "outputs": []
    },
    {
      "cell_type": "code",
      "source": [
        "import numpy as np\n",
        "\n",
        "audio_np = np.array(audio, np.float32)\n",
        "inst_np = np.array(inst, np.int16)\n",
        "\n",
        "print(audio_np.shape, inst_np.shape)"
      ],
      "metadata": {
        "colab": {
          "base_uri": "https://localhost:8080/"
        },
        "id": "FNTnckV5KSlk",
        "outputId": "34941ca6-a089-4444-e6d8-14d6c4f002f5"
      },
      "execution_count": null,
      "outputs": [
        {
          "output_type": "stream",
          "name": "stdout",
          "text": [
            "(500, 88200) (500,)\n"
          ]
        }
      ]
    },
    {
      "cell_type": "code",
      "source": [
        "import os\n",
        "import numpy as np\n",
        "import pandas as pd\n",
        "from PIL import Image\n",
        "from keras.utils import img_to_array, load_img\n",
        "from keras.utils import to_categorical\n",
        "from sklearn.model_selection import train_test_split"
      ],
      "metadata": {
        "id": "QdSrgKzZ6ruO"
      },
      "execution_count": 16,
      "outputs": []
    },
    {
      "cell_type": "code",
      "source": [
        "pwd"
      ],
      "metadata": {
        "colab": {
          "base_uri": "https://localhost:8080/",
          "height": 36
        },
        "id": "86AF_bQ47BMR",
        "outputId": "729a04ce-2bf3-40c6-a459-bd52c4587e21"
      },
      "execution_count": 18,
      "outputs": [
        {
          "output_type": "execute_result",
          "data": {
            "text/plain": [
              "'/content/drive/MyDrive/졸플/Audio_study'"
            ],
            "application/vnd.google.colaboratory.intrinsic+json": {
              "type": "string"
            }
          },
          "metadata": {},
          "execution_count": 18
        }
      ]
    },
    {
      "cell_type": "code",
      "source": [
        "# Set the input shape\n",
        "input_shape = (128, 128, 3)\n",
        "\n",
        "# Define the number of classes\n",
        "num_classes = 7\n",
        "\n",
        "# Define the path to the directory containing the spectrogram images\n",
        "data_dir = './spectrograms/'\n",
        "\n",
        "# Define a list of the label names\n",
        "label_names = ['exterior', 'help', 'interior', 'robbery', 'sexual', 'theft', 'violence']\n",
        "\n",
        "# Create empty lists to store the image data and labels\n",
        "data = []\n",
        "labels = []\n",
        "\n",
        "# Loop through the label names\n",
        "for i, label in enumerate(label_names):\n",
        "    # Get the path to the label directory\n",
        "    path = os.path.join(data_dir, label)\n",
        "    # Loop through the images in the label directory\n",
        "    for img_file in os.listdir(path):\n",
        "        # Load the image and convert it to an array\n",
        "        img = load_img(os.path.join(path, img_file), target_size=input_shape[:2])\n",
        "        img = img_to_array(img)\n",
        "        # Append the image data and label to the lists\n",
        "        data.append(img)\n",
        "        labels.append(i)\n",
        "\n",
        "# Convert the data and labels to numpy arrays\n",
        "data = np.array(data)\n",
        "labels = np.array(labels)\n",
        "\n",
        "# Normalize the data\n",
        "data = data / 255.\n",
        "\n",
        "# Convert the labels to categorical format\n",
        "labels = to_categorical(labels, num_classes=num_classes)\n",
        "\n",
        "# Split the data into training and validation sets\n",
        "train_data, val_data, train_labels, val_labels = train_test_split(data, labels, test_size=0.2)\n"
      ],
      "metadata": {
        "id": "OLy19Osw6pYH"
      },
      "execution_count": 19,
      "outputs": []
    },
    {
      "cell_type": "code",
      "source": [
        "input_shape[:2]"
      ],
      "metadata": {
        "colab": {
          "base_uri": "https://localhost:8080/"
        },
        "id": "AXkMTav18b_I",
        "outputId": "43794139-7a10-49fa-e270-5db04edf404f"
      },
      "execution_count": 22,
      "outputs": [
        {
          "output_type": "execute_result",
          "data": {
            "text/plain": [
              "(128, 128)"
            ]
          },
          "metadata": {},
          "execution_count": 22
        }
      ]
    },
    {
      "cell_type": "code",
      "source": [
        "print(train_data.shape)\n",
        "print(train_labels.shape)\n",
        "print(val_data.shape)\n",
        "print(val_labels.shape)"
      ],
      "metadata": {
        "colab": {
          "base_uri": "https://localhost:8080/"
        },
        "id": "lfK9Scao7vea",
        "outputId": "20277519-1400-4019-fda5-1b612f06b28f"
      },
      "execution_count": 21,
      "outputs": [
        {
          "output_type": "stream",
          "name": "stdout",
          "text": [
            "(3229, 128, 128, 3)\n",
            "(3229, 7)\n",
            "(808, 128, 128, 3)\n",
            "(808, 7)\n"
          ]
        }
      ]
    },
    {
      "cell_type": "markdown",
      "source": [
        "### 모델 1. 과적합이 제일 적으면서 정확도가 제일 무난하게 나오는 모델"
      ],
      "metadata": {
        "id": "-DIU647sgIz6"
      }
    },
    {
      "cell_type": "code",
      "source": [
        "from keras.models import Sequential\n",
        "from keras.layers import Dense, LSTM, Dropout, Reshape, Conv2D, MaxPooling2D, Flatten\n",
        "\n",
        "# Define the model architecture\n",
        "model = Sequential()\n",
        "\n",
        "# Add a convolutional layer with 32 filters, a 3x3 kernel, and ReLU activation\n",
        "model.add(Conv2D(32, kernel_size=(3, 3), activation='relu', input_shape=input_shape))\n",
        "\n",
        "# Add a max pooling layer with a 2x2 window\n",
        "model.add(MaxPooling2D(pool_size=(2, 2)))\n",
        "\n",
        "# Add another convolutional layer with 64 filters and a 3x3 kernel\n",
        "model.add(Conv2D(64, kernel_size=(3, 3), activation='relu'))\n",
        "\n",
        "# Add another max pooling layer\n",
        "model.add(MaxPooling2D(pool_size=(2, 2)))\n",
        "\n",
        "# Add a third convolutional layer with 128 filters and a 3x3 kernel\n",
        "model.add(Conv2D(128, kernel_size=(3, 3), activation='relu'))\n",
        "\n",
        "# Add a reshape layer to convert the output of the convolutional layers to the input shape for the LSTM layer\n",
        "model.add(Reshape((-1, 128)))\n",
        "\n",
        "# Add an LSTM layer with 64 units\n",
        "model.add(LSTM(64, return_sequences=True))\n",
        "\n",
        "# Add a dropout layer to prevent overfitting\n",
        "model.add(Dropout(0.5))\n",
        "\n",
        "# Flatten the layer to adapt fc layer\n",
        "model.add(Flatten())\n",
        "\n",
        "# Add a dense layer with 7 units and softmax activation for classification\n",
        "model.add(Dense(num_classes, activation='softmax'))"
      ],
      "metadata": {
        "id": "o8J2dczm8n9Q"
      },
      "execution_count": 23,
      "outputs": []
    },
    {
      "cell_type": "code",
      "source": [
        "# Print the model summary\n",
        "model.summary()"
      ],
      "metadata": {
        "colab": {
          "base_uri": "https://localhost:8080/"
        },
        "id": "q0T3EczJ88Ie",
        "outputId": "2014b3b1-2747-4b46-ca83-b7cf35a2aa89"
      },
      "execution_count": 25,
      "outputs": [
        {
          "output_type": "stream",
          "name": "stdout",
          "text": [
            "Model: \"sequential\"\n",
            "_________________________________________________________________\n",
            " Layer (type)                Output Shape              Param #   \n",
            "=================================================================\n",
            " conv2d (Conv2D)             (None, 126, 126, 32)      896       \n",
            "                                                                 \n",
            " max_pooling2d (MaxPooling2D  (None, 63, 63, 32)       0         \n",
            " )                                                               \n",
            "                                                                 \n",
            " conv2d_1 (Conv2D)           (None, 61, 61, 64)        18496     \n",
            "                                                                 \n",
            " max_pooling2d_1 (MaxPooling  (None, 30, 30, 64)       0         \n",
            " 2D)                                                             \n",
            "                                                                 \n",
            " conv2d_2 (Conv2D)           (None, 28, 28, 128)       73856     \n",
            "                                                                 \n",
            " reshape (Reshape)           (None, 784, 128)          0         \n",
            "                                                                 \n",
            " lstm (LSTM)                 (None, 784, 64)           49408     \n",
            "                                                                 \n",
            " dropout (Dropout)           (None, 784, 64)           0         \n",
            "                                                                 \n",
            " flatten (Flatten)           (None, 50176)             0         \n",
            "                                                                 \n",
            " dense (Dense)               (None, 7)                 351239    \n",
            "                                                                 \n",
            "=================================================================\n",
            "Total params: 493,895\n",
            "Trainable params: 493,895\n",
            "Non-trainable params: 0\n",
            "_________________________________________________________________\n"
          ]
        }
      ]
    },
    {
      "cell_type": "code",
      "source": [
        "# Compile the model with categorical cross-entropy loss and Adam optimizer\n",
        "model.compile(loss='categorical_crossentropy', optimizer='adam', metrics=['accuracy'])"
      ],
      "metadata": {
        "id": "ysixdIFo8y-M"
      },
      "execution_count": 24,
      "outputs": []
    },
    {
      "cell_type": "markdown",
      "source": [
        "이 구현은 마지막 Conv2D 계층에 대해 더 작은 커널 크기를 사용하여 출력 치수를 LSTM 입력에 대해 호환 가능한 모양으로 줄입니다. 마지막 Conv2D 레이어의 출력 형상은 (5, 21, 128)이며, LSTM 레이어에 대한 입력 형상과 동일한 개수의 단위를 갖는다. 그런 다음 reshape 레이어는 컨볼루션 레이어의 출력을 (5*21, 128)의 형상으로 평탄화하는데, 이는 LSTM 레이어에 대한 입력 형상이다."
      ],
      "metadata": {
        "id": "5duRmyqBSrYR"
      }
    },
    {
      "cell_type": "code",
      "execution_count": 28,
      "metadata": {
        "colab": {
          "base_uri": "https://localhost:8080/"
        },
        "id": "lw-ffNEBkySg",
        "outputId": "b63c46a1-6170-4df3-cf29-cde961b508af"
      },
      "outputs": [
        {
          "output_type": "stream",
          "name": "stdout",
          "text": [
            "Epoch 1/20\n",
            "101/101 [==============================] - 4s 41ms/step - loss: 0.1044 - accuracy: 0.9672 - val_loss: 0.5535 - val_accuracy: 0.8837\n",
            "Epoch 2/20\n",
            "101/101 [==============================] - 4s 41ms/step - loss: 0.1069 - accuracy: 0.9613 - val_loss: 0.4966 - val_accuracy: 0.8973\n",
            "Epoch 3/20\n",
            "101/101 [==============================] - 4s 42ms/step - loss: 0.0652 - accuracy: 0.9802 - val_loss: 0.5269 - val_accuracy: 0.9010\n",
            "Epoch 4/20\n",
            "101/101 [==============================] - 4s 41ms/step - loss: 0.0763 - accuracy: 0.9762 - val_loss: 0.6092 - val_accuracy: 0.8911\n",
            "Epoch 5/20\n",
            "101/101 [==============================] - 4s 40ms/step - loss: 0.0443 - accuracy: 0.9867 - val_loss: 0.6352 - val_accuracy: 0.8936\n",
            "Epoch 6/20\n",
            "101/101 [==============================] - 4s 41ms/step - loss: 0.0266 - accuracy: 0.9932 - val_loss: 0.6473 - val_accuracy: 0.8948\n",
            "Epoch 7/20\n",
            "101/101 [==============================] - 4s 40ms/step - loss: 0.0296 - accuracy: 0.9926 - val_loss: 0.6336 - val_accuracy: 0.8973\n",
            "Epoch 8/20\n",
            "101/101 [==============================] - 4s 40ms/step - loss: 0.0793 - accuracy: 0.9758 - val_loss: 0.6353 - val_accuracy: 0.8874\n",
            "Epoch 9/20\n",
            "101/101 [==============================] - 4s 40ms/step - loss: 0.0540 - accuracy: 0.9820 - val_loss: 0.6148 - val_accuracy: 0.8886\n",
            "Epoch 10/20\n",
            "101/101 [==============================] - 4s 40ms/step - loss: 0.0378 - accuracy: 0.9898 - val_loss: 0.6554 - val_accuracy: 0.8948\n",
            "Epoch 11/20\n",
            "101/101 [==============================] - 4s 40ms/step - loss: 0.0342 - accuracy: 0.9873 - val_loss: 0.6269 - val_accuracy: 0.9022\n",
            "Epoch 12/20\n",
            "101/101 [==============================] - 4s 40ms/step - loss: 0.0615 - accuracy: 0.9817 - val_loss: 0.6465 - val_accuracy: 0.8837\n",
            "Epoch 13/20\n",
            "101/101 [==============================] - 4s 40ms/step - loss: 0.0589 - accuracy: 0.9789 - val_loss: 0.7077 - val_accuracy: 0.8911\n",
            "Epoch 14/20\n",
            "101/101 [==============================] - 4s 40ms/step - loss: 0.0283 - accuracy: 0.9907 - val_loss: 0.6194 - val_accuracy: 0.8998\n",
            "Epoch 15/20\n",
            "101/101 [==============================] - 4s 40ms/step - loss: 0.0204 - accuracy: 0.9938 - val_loss: 0.6448 - val_accuracy: 0.9022\n",
            "Epoch 16/20\n",
            "101/101 [==============================] - 4s 40ms/step - loss: 0.0151 - accuracy: 0.9957 - val_loss: 0.7012 - val_accuracy: 0.8936\n",
            "Epoch 17/20\n",
            "101/101 [==============================] - 4s 40ms/step - loss: 0.0123 - accuracy: 0.9963 - val_loss: 0.7058 - val_accuracy: 0.9010\n",
            "Epoch 18/20\n",
            "101/101 [==============================] - 4s 40ms/step - loss: 0.0114 - accuracy: 0.9972 - val_loss: 0.6874 - val_accuracy: 0.9022\n",
            "Epoch 19/20\n",
            "101/101 [==============================] - 4s 40ms/step - loss: 0.0237 - accuracy: 0.9926 - val_loss: 0.7265 - val_accuracy: 0.8899\n",
            "Epoch 20/20\n",
            "101/101 [==============================] - 4s 40ms/step - loss: 0.0420 - accuracy: 0.9870 - val_loss: 0.7127 - val_accuracy: 0.8911\n"
          ]
        }
      ],
      "source": [
        "# Train the model for 20 epochs with a batch size of 32\n",
        "# epoch은 15번 정도가 적절해보임\n",
        "history = model.fit(train_data, train_labels, batch_size=32, epochs=20, validation_data=(val_data, val_labels))\n"
      ]
    },
    {
      "cell_type": "code",
      "source": [
        "# Evaluate the model on the validation set\n",
        "score = model.evaluate(val_data, val_labels, verbose=0 )\n",
        "\n",
        "# Print the validation accuracy\n",
        "print('Validation accuracy:', score[1])"
      ],
      "metadata": {
        "colab": {
          "base_uri": "https://localhost:8080/"
        },
        "id": "lYAovtUt9ETE",
        "outputId": "93cb6a8c-c55f-4d4a-bfe0-f851f7832505"
      },
      "execution_count": 35,
      "outputs": [
        {
          "output_type": "stream",
          "name": "stdout",
          "text": [
            "Validation accuracy: 0.8910890817642212\n"
          ]
        }
      ]
    },
    {
      "cell_type": "code",
      "source": [
        "import matplotlib.pyplot as plt\n",
        "\n",
        "def plot_history(history_dict):\n",
        "  loss = history_dict['loss']\n",
        "  val_loss = history_dict['val_loss']\n",
        "\n",
        "  epochs = range(1, len(loss)+1)\n",
        "  fig = plt.figure(figsize = (14, 5))\n",
        "\n",
        "  ax1 = fig.add_subplot(1, 2, 1)\n",
        "  ax1.plot(epochs, loss, 'b--', label='train_loss')\n",
        "  ax1.plot(epochs, val_loss, 'r:', label='val_loss')\n",
        "  ax1.set_xlabel('Epochs')\n",
        "  ax1.set_ylabel('Loss')\n",
        "  ax1.grid()\n",
        "  ax1.legend()\n",
        "\n",
        "  acc = history_dict['accuracy']\n",
        "  val_acc = history_dict['val_accuracy']\n",
        "\n",
        "  epochs = range(1, len(loss)+1)\n",
        "  fig = plt.figure(figsize = (14, 5))\n",
        "\n",
        "  ax2 = fig.add_subplot(1, 2, 2)\n",
        "  ax2.plot(epochs, acc, 'b--', label='train_accuracy')\n",
        "  ax2.plot(epochs, val_acc, 'r:', label='val_accuracy')\n",
        "  ax2.set_xlabel('Epochs')\n",
        "  ax2.set_ylabel('acc')\n",
        "  ax2.grid()\n",
        "  ax2.legend()\n",
        "\n",
        "  plt.show()"
      ],
      "metadata": {
        "id": "oF2V18nxWUW0"
      },
      "execution_count": 33,
      "outputs": []
    },
    {
      "cell_type": "code",
      "source": [
        "plot_history(history.history)"
      ],
      "metadata": {
        "colab": {
          "base_uri": "https://localhost:8080/",
          "height": 651
        },
        "id": "qWyuMsckVyk9",
        "outputId": "4bc5478f-14dd-4783-9824-7bb9f6be2c97"
      },
      "execution_count": 34,
      "outputs": [
        {
          "output_type": "display_data",
          "data": {
            "text/plain": [
              "<Figure size 1008x360 with 1 Axes>"
            ],
            "image/png": "[encoded data removed]"
          },
          "metadata": {
            "needs_background": "light"
          }
        },
        {
          "output_type": "display_data",
          "data": {
            "text/plain": [
              "<Figure size 1008x360 with 1 Axes>"
            ],
            "image/png": "[encoded data removed]"
          },
          "metadata": {
            "needs_background": "light"
          }
        }
      ]
    },
    {
      "cell_type": "markdown",
      "source": [
        "BatchNormalization와 Lstm 레이어를 늘리게 되면 train data set에 overfit 하는 현상이 발생\n"
      ],
      "metadata": {
        "id": "2S-nLmmmeVWf"
      }
    },
    {
      "cell_type": "markdown",
      "source": [
        "각 컨볼루션 레이어 다음에 배치 정규화 레이어를 추가하고 LSTM 유닛과 레이어의 수를 늘렸다. 또한 더 안정적인 훈련을 위해 Adam Optimizer에 학습률을 추가."
      ],
      "metadata": {
        "id": "4gdSgmVjg8Pl"
      }
    },
    {
      "cell_type": "markdown",
      "source": [
        "각 컨볼루션 레이어 후 배치 정규화를 사용하여 훈련 안정성을 높이고 잠재적으로 성능을 향상시키는 것을 고려하십시오.\n",
        "더 많은 LSTM 계층을 추가하거나 LSTM 단위의 수를 늘려 입력에서 더 복잡한 시간 종속성을 캡처할 수 있습니다.\n",
        "서로 다른 탈락률로 실험하여 과적합을 방지하기 위한 최적의 값을 찾습니다.\n",
        "모델 일반화를 더욱 개선하기 위해 학습 속도 일정 또는 다른 형태의 정규화를 사용하는 것을 고려해 보십시오."
      ],
      "metadata": {
        "id": "upNpb8bHXul2"
      }
    },
    {
      "cell_type": "markdown",
      "source": [
        "### 배치 정규화 "
      ],
      "metadata": {
        "id": "-rCmnwJZA_Yi"
      }
    },
    {
      "cell_type": "code",
      "source": [
        "from keras.models import Sequential\n",
        "from keras.layers import Dense, LSTM, Dropout, Reshape, Conv2D, MaxPooling2D, Flatten, BatchNormalization\n",
        "\n",
        "model = Sequential()\n",
        "\n",
        "# Add a convolutional layer with 32 filters, a 3x3 kernel, and ReLU activation\n",
        "model.add(Conv2D(64, kernel_size=(3, 3), activation='relu', input_shape=input_shape))\n",
        "model.add(BatchNormalization())\n",
        "# Add a max pooling layer with a 2x2 window\n",
        "model.add(MaxPooling2D(pool_size=(2, 2)))\n",
        "\n",
        "# Add another convolutional layer with 64 filters and a 3x3 kernel\n",
        "model.add(Conv2D(64, kernel_size=(3, 3), activation='relu'))\n",
        "model.add(BatchNormalization())\n",
        "# Add another max pooling layer\n",
        "model.add(MaxPooling2D(pool_size=(2, 2)))\n",
        "\n",
        "# Add a third convolutional layer with 128 filters and a 3x3 kernel\n",
        "model.add(Conv2D(256, kernel_size=(3, 3), activation='relu'))\n",
        "model.add(BatchNormalization())\n",
        "\n",
        "# Add a reshape layer to convert the output of the convolutional layers to the input shape for the LSTM layer\n",
        "model.add(Reshape((-1, 256)))\n",
        "\n",
        "# Add an LSTM layer with 64 units\n",
        "model.add(LSTM(256, return_sequences=True))\n",
        "# model.add(BatchNormalization()) <- 이 것도 문제\n",
        "\n",
        "# Add a dropout layer to prevent overfitting\n",
        "model.add(Dropout(0.5))\n",
        "\n",
        "model.add(Flatten())\n",
        "# model.add(Dense(128, activation='relu')) <- 이 것이 문제\n",
        "# Add a dense layer with 10 units and softmax activation for classification\n",
        "model.add(Dense(num_classes, activation='softmax'))\n",
        "\n",
        "# Print the model summary\n",
        "model.summary()"
      ],
      "metadata": {
        "colab": {
          "base_uri": "https://localhost:8080/"
        },
        "id": "q5XPI5JXZT8r",
        "outputId": "8f66daa7-e1c2-4a1b-de6e-9eff81ff3fc6"
      },
      "execution_count": 44,
      "outputs": [
        {
          "output_type": "stream",
          "name": "stdout",
          "text": [
            "Model: \"sequential_4\"\n",
            "_________________________________________________________________\n",
            " Layer (type)                Output Shape              Param #   \n",
            "=================================================================\n",
            " conv2d_12 (Conv2D)          (None, 126, 126, 64)      1792      \n",
            "                                                                 \n",
            " batch_normalization_12 (Bat  (None, 126, 126, 64)     256       \n",
            " chNormalization)                                                \n",
            "                                                                 \n",
            " max_pooling2d_8 (MaxPooling  (None, 63, 63, 64)       0         \n",
            " 2D)                                                             \n",
            "                                                                 \n",
            " conv2d_13 (Conv2D)          (None, 61, 61, 64)        36928     \n",
            "                                                                 \n",
            " batch_normalization_13 (Bat  (None, 61, 61, 64)       256       \n",
            " chNormalization)                                                \n",
            "                                                                 \n",
            " max_pooling2d_9 (MaxPooling  (None, 30, 30, 64)       0         \n",
            " 2D)                                                             \n",
            "                                                                 \n",
            " conv2d_14 (Conv2D)          (None, 28, 28, 256)       147712    \n",
            "                                                                 \n",
            " batch_normalization_14 (Bat  (None, 28, 28, 256)      1024      \n",
            " chNormalization)                                                \n",
            "                                                                 \n",
            " reshape_4 (Reshape)         (None, 784, 256)          0         \n",
            "                                                                 \n",
            " lstm_4 (LSTM)               (None, 784, 256)          525312    \n",
            "                                                                 \n",
            " dropout_4 (Dropout)         (None, 784, 256)          0         \n",
            "                                                                 \n",
            " flatten_4 (Flatten)         (None, 200704)            0         \n",
            "                                                                 \n",
            " dense_6 (Dense)             (None, 7)                 1404935   \n",
            "                                                                 \n",
            "=================================================================\n",
            "Total params: 2,118,215\n",
            "Trainable params: 2,117,447\n",
            "Non-trainable params: 768\n",
            "_________________________________________________________________\n"
          ]
        }
      ]
    },
    {
      "cell_type": "code",
      "source": [
        "model.compile(optimizer='adam',\n",
        "                loss='categorical_crossentropy',\n",
        "                metrics=['accuracy'])"
      ],
      "metadata": {
        "id": "A5Uu2OwmaTfU"
      },
      "execution_count": 45,
      "outputs": []
    },
    {
      "cell_type": "code",
      "source": [
        "# Train the model for 20 epochs with a batch size of 32\n",
        "# 아래 모델은 정확도가 안 좋음\n",
        "history2 = model.fit(train_data, train_labels, batch_size=32, epochs=20, validation_data=(val_data, val_labels))\n"
      ],
      "metadata": {
        "colab": {
          "base_uri": "https://localhost:8080/"
        },
        "id": "Y8o-4J0TaYi7",
        "outputId": "ebfcce08-4322-4754-ffab-7684e4896432"
      },
      "execution_count": 47,
      "outputs": [
        {
          "output_type": "stream",
          "name": "stdout",
          "text": [
            "Epoch 1/20\n",
            "101/101 [==============================] - 13s 97ms/step - loss: 4.9739 - accuracy: 0.4899 - val_loss: 12.0964 - val_accuracy: 0.0829\n",
            "Epoch 2/20\n",
            "101/101 [==============================] - 9s 85ms/step - loss: 1.6799 - accuracy: 0.6714 - val_loss: 6.4551 - val_accuracy: 0.2215\n",
            "Epoch 3/20\n",
            "101/101 [==============================] - 9s 87ms/step - loss: 0.9130 - accuracy: 0.7687 - val_loss: 2.8325 - val_accuracy: 0.3329\n",
            "Epoch 4/20\n",
            "101/101 [==============================] - 9s 92ms/step - loss: 0.4912 - accuracy: 0.8455 - val_loss: 2.8219 - val_accuracy: 0.3032\n",
            "Epoch 5/20\n",
            "101/101 [==============================] - 9s 87ms/step - loss: 0.3699 - accuracy: 0.8851 - val_loss: 1.9673 - val_accuracy: 0.3960\n",
            "Epoch 6/20\n",
            "101/101 [==============================] - 9s 87ms/step - loss: 0.2847 - accuracy: 0.9068 - val_loss: 1.1354 - val_accuracy: 0.6795\n",
            "Epoch 7/20\n",
            "101/101 [==============================] - 9s 87ms/step - loss: 0.2783 - accuracy: 0.9170 - val_loss: 0.8091 - val_accuracy: 0.7871\n",
            "Epoch 8/20\n",
            "101/101 [==============================] - 9s 85ms/step - loss: 0.1615 - accuracy: 0.9415 - val_loss: 0.5485 - val_accuracy: 0.8651\n",
            "Epoch 9/20\n",
            "101/101 [==============================] - 9s 85ms/step - loss: 0.1040 - accuracy: 0.9669 - val_loss: 0.5099 - val_accuracy: 0.8762\n",
            "Epoch 10/20\n",
            "101/101 [==============================] - 9s 85ms/step - loss: 0.1406 - accuracy: 0.9656 - val_loss: 1.9543 - val_accuracy: 0.6807\n",
            "Epoch 11/20\n",
            "101/101 [==============================] - 9s 85ms/step - loss: 0.1954 - accuracy: 0.9489 - val_loss: 0.7087 - val_accuracy: 0.8490\n",
            "Epoch 12/20\n",
            "101/101 [==============================] - 9s 85ms/step - loss: 0.1690 - accuracy: 0.9495 - val_loss: 0.8781 - val_accuracy: 0.8391\n",
            "Epoch 13/20\n",
            "101/101 [==============================] - 9s 85ms/step - loss: 0.1350 - accuracy: 0.9604 - val_loss: 0.5745 - val_accuracy: 0.8824\n",
            "Epoch 14/20\n",
            "101/101 [==============================] - 9s 86ms/step - loss: 0.1277 - accuracy: 0.9622 - val_loss: 1.2651 - val_accuracy: 0.8292\n",
            "Epoch 15/20\n",
            "101/101 [==============================] - 9s 91ms/step - loss: 0.0995 - accuracy: 0.9731 - val_loss: 0.6574 - val_accuracy: 0.8824\n",
            "Epoch 16/20\n",
            "101/101 [==============================] - 9s 85ms/step - loss: 0.0862 - accuracy: 0.9749 - val_loss: 0.7271 - val_accuracy: 0.8824\n",
            "Epoch 17/20\n",
            "101/101 [==============================] - 9s 85ms/step - loss: 0.0703 - accuracy: 0.9777 - val_loss: 0.7608 - val_accuracy: 0.8837\n",
            "Epoch 18/20\n",
            "101/101 [==============================] - 9s 85ms/step - loss: 0.0586 - accuracy: 0.9814 - val_loss: 1.1114 - val_accuracy: 0.8342\n",
            "Epoch 19/20\n",
            "101/101 [==============================] - 9s 85ms/step - loss: 0.0811 - accuracy: 0.9740 - val_loss: 0.7226 - val_accuracy: 0.8973\n",
            "Epoch 20/20\n",
            "101/101 [==============================] - 9s 87ms/step - loss: 0.0805 - accuracy: 0.9820 - val_loss: 0.6490 - val_accuracy: 0.8762\n"
          ]
        }
      ]
    },
    {
      "cell_type": "code",
      "source": [
        "plot_history(history2.history)"
      ],
      "metadata": {
        "colab": {
          "base_uri": "https://localhost:8080/",
          "height": 651
        },
        "id": "Ib10HKR7abzX",
        "outputId": "9213a9d4-367f-4183-d7bc-b1c9e6b6973d"
      },
      "execution_count": 48,
      "outputs": [
        {
          "output_type": "display_data",
          "data": {
            "text/plain": [
              "<Figure size 1008x360 with 1 Axes>"
            ],
            "image/png": "[encoded data removed]"
          },
          "metadata": {
            "needs_background": "light"
          }
        },
        {
          "output_type": "display_data",
          "data": {
            "text/plain": [
              "<Figure size 1008x360 with 1 Axes>"
            ],
            "image/png": "[encoded data removed]"
          },
          "metadata": {
            "needs_background": "light"
          }
        }
      ]
    },
    {
      "cell_type": "markdown",
      "source": [
        "모델이 훈련 데이터에 과적합되어 훈련 정확도와 검증 정확도 사이에 큰 차이가 발생할 수 있다. 배치 정규화를 추가하는 것은 과적합을 방지하기 위한 좋은 단계이지만 더 많은 드롭아웃을 사용하거나 모델의 복잡성을 줄이는 것과 같은 다른 기술도 시도할 수 있습니다.\n",
        "\n",
        "train 정확도와 valid 정확도 사이의 큰 차이에 대한 또 다른 가능한 이유는 데이터 불균형 문제이다. 유효성 검사 세트의 클래스 분포가 교육 세트와 다른 경우 모델이 유효성 검사 세트에서 제대로 수행되지 않을 수 있습니다. 이 문제를 해결하기 위해 열차 테스트 분할 중에 데이터를 계층화하거나 소수 클래스를 오버샘플링할 수 있습니다."
      ],
      "metadata": {
        "id": "Pqdn0yjDgZaJ"
      }
    },
    {
      "cell_type": "markdown",
      "source": [
        "### dropout"
      ],
      "metadata": {
        "id": "Uoh9OE7IB56o"
      }
    },
    {
      "cell_type": "code",
      "source": [
        "from keras.models import Sequential\n",
        "from keras.layers import Dense, LSTM, Dropout, Reshape, Conv2D, MaxPooling2D, Flatten\n",
        "\n",
        "# Define the model architecture\n",
        "model = Sequential()\n",
        "\n",
        "# Add a convolutional layer with 32 filters, a 3x3 kernel, and ReLU activation\n",
        "model.add(Conv2D(32, kernel_size=(3, 3), activation='relu', input_shape=input_shape))\n",
        "\n",
        "# Add a max pooling layer with a 2x2 window\n",
        "model.add(MaxPooling2D(pool_size=(2, 2)))\n",
        "\n",
        "# Add another convolutional layer with 64 filters and a 3x3 kernel\n",
        "model.add(Conv2D(64, kernel_size=(3, 3), activation='relu'))\n",
        "\n",
        "# Add another max pooling layer\n",
        "model.add(MaxPooling2D(pool_size=(2, 2)))\n",
        "\n",
        "# Add a dropout layer to prevent overfitting\n",
        "model.add(Dropout(0.25))\n",
        "\n",
        "# Add a third convolutional layer with 128 filters and a 3x3 kernel\n",
        "model.add(Conv2D(128, kernel_size=(3, 3), activation='relu'))\n",
        "\n",
        "# Add a reshape layer to convert the output of the convolutional layers to the input shape for the LSTM layer\n",
        "model.add(Reshape((-1, 128)))\n",
        "\n",
        "# Add an LSTM layer with 64 units\n",
        "model.add(LSTM(64, return_sequences=True))\n",
        "\n",
        "# Add a dropout layer to prevent overfitting\n",
        "model.add(Dropout(0.5))\n",
        "\n",
        "# Flatten the layer to adapt fc layer\n",
        "model.add(Flatten())\n",
        "\n",
        "# Add a dense layer with 7 units and softmax activation for classification\n",
        "model.add(Dense(num_classes, activation='softmax'))"
      ],
      "metadata": {
        "id": "D3FcGTEhfpNd"
      },
      "execution_count": 49,
      "outputs": []
    },
    {
      "cell_type": "code",
      "source": [
        "model.summary()"
      ],
      "metadata": {
        "colab": {
          "base_uri": "https://localhost:8080/"
        },
        "id": "l8i2Z1r-B2o9",
        "outputId": "7e9d1cac-5f60-443c-c5fb-b885f452c943"
      },
      "execution_count": 50,
      "outputs": [
        {
          "output_type": "stream",
          "name": "stdout",
          "text": [
            "Model: \"sequential_5\"\n",
            "_________________________________________________________________\n",
            " Layer (type)                Output Shape              Param #   \n",
            "=================================================================\n",
            " conv2d_15 (Conv2D)          (None, 126, 126, 32)      896       \n",
            "                                                                 \n",
            " max_pooling2d_10 (MaxPoolin  (None, 63, 63, 32)       0         \n",
            " g2D)                                                            \n",
            "                                                                 \n",
            " conv2d_16 (Conv2D)          (None, 61, 61, 64)        18496     \n",
            "                                                                 \n",
            " max_pooling2d_11 (MaxPoolin  (None, 30, 30, 64)       0         \n",
            " g2D)                                                            \n",
            "                                                                 \n",
            " dropout_5 (Dropout)         (None, 30, 30, 64)        0         \n",
            "                                                                 \n",
            " conv2d_17 (Conv2D)          (None, 28, 28, 128)       73856     \n",
            "                                                                 \n",
            " reshape_5 (Reshape)         (None, 784, 128)          0         \n",
            "                                                                 \n",
            " lstm_5 (LSTM)               (None, 784, 64)           49408     \n",
            "                                                                 \n",
            " dropout_6 (Dropout)         (None, 784, 64)           0         \n",
            "                                                                 \n",
            " flatten_5 (Flatten)         (None, 50176)             0         \n",
            "                                                                 \n",
            " dense_7 (Dense)             (None, 7)                 351239    \n",
            "                                                                 \n",
            "=================================================================\n",
            "Total params: 493,895\n",
            "Trainable params: 493,895\n",
            "Non-trainable params: 0\n",
            "_________________________________________________________________\n"
          ]
        }
      ]
    },
    {
      "cell_type": "code",
      "source": [
        "# Compile the model with categorical cross-entropy loss and Adam optimizer\n",
        "model.compile(loss='categorical_crossentropy', optimizer='adam', metrics=['accuracy'])\n",
        "\n",
        "# Train the model for 10 epochs with a batch size of 32\n",
        "history3 = model.fit(train_data, train_labels, batch_size=32, epochs=20, validation_data=(val_data, val_labels))\n"
      ],
      "metadata": {
        "colab": {
          "base_uri": "https://localhost:8080/"
        },
        "id": "Zdz0V-xEAmeU",
        "outputId": "62921d99-f568-47d9-8878-069ddd1fa527"
      },
      "execution_count": 52,
      "outputs": [
        {
          "output_type": "stream",
          "name": "stdout",
          "text": [
            "Epoch 1/20\n",
            "101/101 [==============================] - 8s 53ms/step - loss: 1.3084 - accuracy: 0.4512 - val_loss: 1.1556 - val_accuracy: 0.5087\n",
            "Epoch 2/20\n",
            "101/101 [==============================] - 5s 45ms/step - loss: 1.0180 - accuracy: 0.5921 - val_loss: 0.9840 - val_accuracy: 0.6139\n",
            "Epoch 3/20\n",
            "101/101 [==============================] - 5s 46ms/step - loss: 0.8694 - accuracy: 0.6553 - val_loss: 0.9123 - val_accuracy: 0.6559\n",
            "Epoch 4/20\n",
            "101/101 [==============================] - 5s 45ms/step - loss: 0.7150 - accuracy: 0.7256 - val_loss: 0.7005 - val_accuracy: 0.7339\n",
            "Epoch 5/20\n",
            "101/101 [==============================] - 5s 45ms/step - loss: 0.6125 - accuracy: 0.7653 - val_loss: 0.6319 - val_accuracy: 0.7748\n",
            "Epoch 6/20\n",
            "101/101 [==============================] - 5s 46ms/step - loss: 0.4760 - accuracy: 0.8191 - val_loss: 0.5547 - val_accuracy: 0.7884\n",
            "Epoch 7/20\n",
            "101/101 [==============================] - 5s 46ms/step - loss: 0.4166 - accuracy: 0.8436 - val_loss: 0.5451 - val_accuracy: 0.8094\n",
            "Epoch 8/20\n",
            "101/101 [==============================] - 5s 46ms/step - loss: 0.3554 - accuracy: 0.8647 - val_loss: 0.4599 - val_accuracy: 0.8490\n",
            "Epoch 9/20\n",
            "101/101 [==============================] - 5s 46ms/step - loss: 0.2863 - accuracy: 0.8963 - val_loss: 0.5364 - val_accuracy: 0.8391\n",
            "Epoch 10/20\n",
            "101/101 [==============================] - 5s 45ms/step - loss: 0.2680 - accuracy: 0.8987 - val_loss: 0.4944 - val_accuracy: 0.8676\n",
            "Epoch 11/20\n",
            "101/101 [==============================] - 5s 46ms/step - loss: 0.1915 - accuracy: 0.9328 - val_loss: 0.4762 - val_accuracy: 0.8639\n",
            "Epoch 12/20\n",
            "101/101 [==============================] - 5s 45ms/step - loss: 0.2026 - accuracy: 0.9247 - val_loss: 0.4926 - val_accuracy: 0.8725\n",
            "Epoch 13/20\n",
            "101/101 [==============================] - 5s 45ms/step - loss: 0.1678 - accuracy: 0.9353 - val_loss: 0.4789 - val_accuracy: 0.8750\n",
            "Epoch 14/20\n",
            "101/101 [==============================] - 5s 45ms/step - loss: 0.1196 - accuracy: 0.9563 - val_loss: 0.4428 - val_accuracy: 0.8899\n",
            "Epoch 15/20\n",
            "101/101 [==============================] - 5s 45ms/step - loss: 0.1132 - accuracy: 0.9669 - val_loss: 0.4124 - val_accuracy: 0.8874\n",
            "Epoch 16/20\n",
            "101/101 [==============================] - 5s 47ms/step - loss: 0.1147 - accuracy: 0.9579 - val_loss: 0.5046 - val_accuracy: 0.8849\n",
            "Epoch 17/20\n",
            "101/101 [==============================] - 5s 46ms/step - loss: 0.1079 - accuracy: 0.9613 - val_loss: 0.4618 - val_accuracy: 0.8812\n",
            "Epoch 18/20\n",
            "101/101 [==============================] - 5s 45ms/step - loss: 0.0752 - accuracy: 0.9758 - val_loss: 0.5391 - val_accuracy: 0.8861\n",
            "Epoch 19/20\n",
            "101/101 [==============================] - 5s 45ms/step - loss: 0.0806 - accuracy: 0.9731 - val_loss: 0.5087 - val_accuracy: 0.8911\n",
            "Epoch 20/20\n",
            "101/101 [==============================] - 5s 45ms/step - loss: 0.0457 - accuracy: 0.9854 - val_loss: 0.5424 - val_accuracy: 0.8973\n"
          ]
        }
      ]
    },
    {
      "cell_type": "code",
      "source": [
        "# Evaluate the model on the validation set\n",
        "score = model.evaluate(val_data, val_labels, verbose=0)\n",
        "\n",
        "# Print the validation accuracy\n",
        "print('Validation accuracy:', score[1])"
      ],
      "metadata": {
        "colab": {
          "base_uri": "https://localhost:8080/"
        },
        "id": "Ppn35bzTArRC",
        "outputId": "34d98517-1af4-48e1-ec9e-932c898e6bbe"
      },
      "execution_count": 53,
      "outputs": [
        {
          "output_type": "stream",
          "name": "stdout",
          "text": [
            "Validation accuracy: 0.8972772359848022\n"
          ]
        }
      ]
    },
    {
      "cell_type": "code",
      "source": [
        "plot_history(history3.history)"
      ],
      "metadata": {
        "colab": {
          "base_uri": "https://localhost:8080/",
          "height": 651
        },
        "id": "eLX9v-FBCCAL",
        "outputId": "c1fd2512-50a0-4f92-b25c-dd5a1e88177c"
      },
      "execution_count": 54,
      "outputs": [
        {
          "output_type": "display_data",
          "data": {
            "text/plain": [
              "<Figure size 1008x360 with 1 Axes>"
            ],
            "image/png": "[encoded data removed]"
          },
          "metadata": {
            "needs_background": "light"
          }
        },
        {
          "output_type": "display_data",
          "data": {
            "text/plain": [
              "<Figure size 1008x360 with 1 Axes>"
            ],
            "image/png": "[encoded data removed]"
          },
          "metadata": {
            "needs_background": "light"
          }
        }
      ]
    },
    {
      "cell_type": "code",
      "source": [],
      "metadata": {
        "id": "4Rp2neA3CDU-"
      },
      "execution_count": null,
      "outputs": []
    },
    {
      "cell_type": "markdown",
      "source": [
        "### save the model"
      ],
      "metadata": {
        "id": "ojJrHk82Dxfi"
      }
    },
    {
      "cell_type": "code",
      "source": [
        "pwd"
      ],
      "metadata": {
        "colab": {
          "base_uri": "https://localhost:8080/",
          "height": 36
        },
        "id": "w4r9vbehD8AM",
        "outputId": "cd3892fa-ef12-4c40-9f2f-4afbcccf494e"
      },
      "execution_count": 58,
      "outputs": [
        {
          "output_type": "execute_result",
          "data": {
            "text/plain": [
              "'/content/drive/MyDrive/졸플/Audio_study'"
            ],
            "application/vnd.google.colaboratory.intrinsic+json": {
              "type": "string"
            }
          },
          "metadata": {},
          "execution_count": 58
        }
      ]
    },
    {
      "cell_type": "code",
      "source": [
        "model.save('./2023-02-27_model.h5')"
      ],
      "metadata": {
        "id": "BsA4Z6LsDxMd"
      },
      "execution_count": 59,
      "outputs": []
    },
    {
      "cell_type": "markdown",
      "source": [
        "### 테스트 "
      ],
      "metadata": {
        "id": "C40_B3WbCE_F"
      }
    },
    {
      "cell_type": "code",
      "source": [
        "pwd"
      ],
      "metadata": {
        "colab": {
          "base_uri": "https://localhost:8080/",
          "height": 36
        },
        "id": "uY14aNkhCxsE",
        "outputId": "721932b7-f0f2-40c6-9340-b01367a22ad1"
      },
      "execution_count": 55,
      "outputs": [
        {
          "output_type": "execute_result",
          "data": {
            "text/plain": [
              "'/content/drive/MyDrive/졸플/Audio_study'"
            ],
            "application/vnd.google.colaboratory.intrinsic+json": {
              "type": "string"
            }
          },
          "metadata": {},
          "execution_count": 55
        }
      ]
    },
    {
      "cell_type": "code",
      "source": [
        "import librosa\n",
        "import numpy as np\n",
        "from scipy import resize\n",
        "from keras.models import load_model\n",
        "\n",
        "# Load the trained model\n",
        "# model = load_model('path/to/trained/model.h5')\n",
        "model = load_model('./2023-02-27_model.h5')\n",
        "\n",
        "# Load an example audio file\n",
        "audio_file = './test/유투브-도와주세요.wav'\n",
        "\n",
        "# Set the sampling rate and duration for the audio file\n",
        "sr = 44100\n",
        "duration = 5\n",
        "\n",
        "# Load the audio data and resample it to the desired sampling rate\n",
        "audio_data, _ = librosa.load(audio_file, sr=sr, duration=duration)\n",
        "\n",
        "# Calculate the spectrogram of the audio data\n",
        "spec = librosa.feature.melspectrogram(audio_data, sr=sr)\n",
        "\n",
        "# Convert the spectrogram to decibels\n",
        "spec_db = librosa.power_to_db(spec, ref=np.max)\n",
        "\n",
        "# Resize the spectrogram to match the input shape of the model\n",
        "spec_resized = np.resize(spec_db, (128, 128, 3))\n",
        "\n",
        "# Reshape the spectrogram to match the model's input shape\n",
        "spectrogram = spec_resized.reshape((1,) + spec_resized.shape)\n",
        "\n",
        "# Normalize the spectrogram\n",
        "spectrogram /= np.max(spectrogram)\n",
        "\n",
        "# Normalize the spectrogram\n",
        "spec_db /= np.max(spec_db)\n",
        "\n",
        "\n",
        "\n",
        "\n"
      ],
      "metadata": {
        "colab": {
          "base_uri": "https://localhost:8080/"
        },
        "id": "DKZIVah-CGbB",
        "outputId": "2e0e8b62-5259-4118-e16d-d7c41e4f6d81"
      },
      "execution_count": 71,
      "outputs": [
        {
          "output_type": "stream",
          "name": "stderr",
          "text": [
            "<ipython-input-71-dee542976f1c>:33: RuntimeWarning: divide by zero encountered in true_divide\n",
            "  spectrogram /= np.max(spectrogram)\n",
            "<ipython-input-71-dee542976f1c>:33: RuntimeWarning: invalid value encountered in true_divide\n",
            "  spectrogram /= np.max(spectrogram)\n",
            "<ipython-input-71-dee542976f1c>:36: RuntimeWarning: divide by zero encountered in true_divide\n",
            "  spec_db /= np.max(spec_db)\n",
            "<ipython-input-71-dee542976f1c>:36: RuntimeWarning: invalid value encountered in true_divide\n",
            "  spec_db /= np.max(spec_db)\n"
          ]
        }
      ]
    },
    {
      "cell_type": "code",
      "source": [
        "spectrogram.shape"
      ],
      "metadata": {
        "colab": {
          "base_uri": "https://localhost:8080/"
        },
        "id": "aSudmHfZEzqG",
        "outputId": "bad4bbcf-352b-434f-8184-7d2d9bd9e7c4"
      },
      "execution_count": 72,
      "outputs": [
        {
          "output_type": "execute_result",
          "data": {
            "text/plain": [
              "(1, 128, 128, 3)"
            ]
          },
          "metadata": {},
          "execution_count": 72
        }
      ]
    },
    {
      "cell_type": "code",
      "source": [
        "# Predict the probabilities for each class\n",
        "probabilities = model.predict(spectrogram)\n",
        "\n",
        "# Get the index of the class with the highest probability\n",
        "predicted_class = np.argmax(probabilities)\n",
        "\n",
        "label_names = ['exterior', 'help', 'interior', 'robbery', 'sexual', 'theft', 'violence']\n",
        "\n",
        "print(f\"The predicted class for the audio file is {label_names[predicted_class]}.\")"
      ],
      "metadata": {
        "colab": {
          "base_uri": "https://localhost:8080/"
        },
        "id": "qzVtiiq-DAF-",
        "outputId": "affa0bbf-8209-458d-b817-307a12306607"
      },
      "execution_count": 74,
      "outputs": [
        {
          "output_type": "stream",
          "name": "stdout",
          "text": [
            "1/1 [==============================] - 0s 26ms/step\n",
            "The predicted class for the audio file is help.\n"
          ]
        }
      ]
    },
    {
      "cell_type": "code",
      "source": [],
      "metadata": {
        "id": "oNPZe-ikEVgi"
      },
      "execution_count": null,
      "outputs": []
    }
  ]
}