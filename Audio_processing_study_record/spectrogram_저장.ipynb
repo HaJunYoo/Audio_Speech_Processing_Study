{
  "nbformat": 4,
  "nbformat_minor": 0,
  "metadata": {
    "colab": {
      "provenance": [],
      "authorship_tag": "ABX9TyPW/p+sUb9Io7OwvMX/a+lo",
      "include_colab_link": true
    },
    "kernelspec": {
      "name": "python3",
      "display_name": "Python 3"
    },
    "language_info": {
      "name": "python"
    }
  },
  "cells": [
    {
      "cell_type": "markdown",
      "metadata": {
        "id": "view-in-github",
        "colab_type": "text"
      },
      "source": [
        "<a href=\"https://colab.research.google.com/github/HaJunYoo/Audio_Speech_Processing_Study/blob/main/%08spectrogram_%EC%A0%80%EC%9E%A5.ipynb\" target=\"_parent\"><img src=\"https://colab.research.google.com/assets/colab-badge.svg\" alt=\"Open In Colab\"/></a>"
      ]
    },
    {
      "cell_type": "code",
      "source": [
        "from google.colab import drive\n",
        "drive.mount('/content/drive')"
      ],
      "metadata": {
        "colab": {
          "base_uri": "https://localhost:8080/"
        },
        "id": "nyqSFIL9oa70",
        "outputId": "d70f01a5-73b6-4061-e871-1849af575bac"
      },
      "execution_count": 1,
      "outputs": [
        {
          "output_type": "stream",
          "name": "stdout",
          "text": [
            "Mounted at /content/drive\n"
          ]
        }
      ]
    },
    {
      "cell_type": "code",
      "source": [
        "import os \n",
        "path = '/content/drive/MyDrive/졸플/Audio_study/'"
      ],
      "metadata": {
        "id": "q_J2xJZYocJK"
      },
      "execution_count": 10,
      "outputs": []
    },
    {
      "cell_type": "code",
      "source": [
        "import librosa\n",
        "import numpy as np\n",
        "\n",
        "# Define parameters for the sliding window approach\n",
        "window_size = 0.02 # seconds\n",
        "hop_size = 0.01 # seconds\n",
        "n_fft = 2048\n",
        "\n",
        "# Load an example audio file\n",
        "audio, sr = librosa.load(os.path.join(path, '1.강제추행(성범죄)_17951_label.wav'), sr=16000)\n"
      ],
      "metadata": {
        "id": "IsqZMVsco1qv"
      },
      "execution_count": 3,
      "outputs": []
    },
    {
      "cell_type": "code",
      "source": [
        "# Compute the length of the audio file in seconds and frames\n",
        "audio_len = len(audio) / sr\n",
        "audio_frames = int(audio_len / hop_size)"
      ],
      "metadata": {
        "id": "QohF8N_JpWXZ"
      },
      "execution_count": 4,
      "outputs": []
    },
    {
      "cell_type": "code",
      "source": [
        "# Initialize an empty array to store the spectrogram frames\n",
        "spectrogram_frames = np.zeros((audio_frames, n_fft // 2 + 1))"
      ],
      "metadata": {
        "id": "GlTR17klpX3B"
      },
      "execution_count": 5,
      "outputs": []
    },
    {
      "cell_type": "code",
      "source": [
        "# Generate the spectrogram frames using a sliding window approach\n",
        "for i in range(audio_frames):\n",
        "    start = int(i * hop_size * sr)\n",
        "    end = int(start + window_size * sr)\n",
        "    window = audio[start:end]\n",
        "    spectrogram = np.abs(librosa.stft(window, n_fft=n_fft))\n",
        "    spectrogram_frames[i] = spectrogram.mean(axis=1)\n"
      ],
      "metadata": {
        "colab": {
          "base_uri": "https://localhost:8080/"
        },
        "id": "lYP8owg7pZLb",
        "outputId": "ad05d815-829f-4687-cb62-b8daf2ca12e8"
      },
      "execution_count": 6,
      "outputs": [
        {
          "output_type": "stream",
          "name": "stderr",
          "text": [
            "/usr/local/lib/python3.8/dist-packages/librosa/core/spectrum.py:222: UserWarning: n_fft=2048 is too small for input signal of length=320\n",
            "  warnings.warn(\n",
            "/usr/local/lib/python3.8/dist-packages/librosa/core/spectrum.py:222: UserWarning: n_fft=2048 is too small for input signal of length=319\n",
            "  warnings.warn(\n"
          ]
        }
      ]
    },
    {
      "cell_type": "code",
      "execution_count": 7,
      "metadata": {
        "id": "RSXYvMxzoYsk"
      },
      "outputs": [],
      "source": [
        "# Reshape the spectrogram frames to have a single channel\n",
        "spectrogram_frames = spectrogram_frames.reshape(spectrogram_frames.shape[0], spectrogram_frames.shape[1], 1)"
      ]
    },
    {
      "cell_type": "code",
      "source": [
        "spectrogram_frames.shape"
      ],
      "metadata": {
        "colab": {
          "base_uri": "https://localhost:8080/"
        },
        "id": "1qiDD4YXo0jh",
        "outputId": "f5c05233-a559-4e28-8836-a0c142fc6e62"
      },
      "execution_count": 9,
      "outputs": [
        {
          "output_type": "execute_result",
          "data": {
            "text/plain": [
              "(238, 1025, 1)"
            ]
          },
          "metadata": {},
          "execution_count": 9
        }
      ]
    },
    {
      "cell_type": "markdown",
      "source": [
        "## 가변적 크기의 스펙트로그램"
      ],
      "metadata": {
        "id": "ZVXTZcB80PgC"
      }
    },
    {
      "cell_type": "code",
      "source": [
        "import os\n",
        "import librosa\n",
        "import librosa.display\n",
        "import matplotlib.pyplot as plt\n",
        "\n",
        "wav_dir = os.path.join(path,'data')\n",
        "\n",
        "spect_dir = os.path.join(path, 'spectrogram')\n",
        "if not os.path.exists(spect_dir):\n",
        "    os.makedirs(spect_dir)\n",
        "\n",
        "# 디렉토리 내의 모든 wav 파일들을 불러옵니다.\n",
        "for wav_file in os.listdir(wav_dir):\n",
        "    if wav_file.endswith('.wav'):\n",
        "        # wav 파일을 로드합니다.\n",
        "        audio_path = os.path.join(wav_dir, wav_file)\n",
        "        y, sr = librosa.load(audio_path)\n",
        "\n",
        "        # 스펙트로그램을 생성합니다.\n",
        "        spect = librosa.feature.melspectrogram(y=y, sr=sr)\n",
        "\n",
        "        # 생성된 스펙트로그램을 시각화하고 저장합니다.\n",
        "        plt.figure(figsize=(10, 4))\n",
        "        librosa.display.specshow(librosa.power_to_db(spect, ref=np.max),\n",
        "                                 y_axis='mel', fmax=8000,\n",
        "                                 x_axis='time')\n",
        "        \n",
        "        plt.colorbar(format='%+2.0f dB')\n",
        "        plt.title(wav_file)\n",
        "        plt.tight_layout()\n",
        "\n",
        "        # 저장될 파일 경로를 생성합니다.\n",
        "        spect_file = os.path.join(spect_dir, os.path.splitext(wav_file)[0] + '.png')\n",
        "\n",
        "        # 스펙트로그램 이미지를 저장합니다.\n",
        "        plt.savefig(spect_file, dpi=100)\n",
        "        plt.close()"
      ],
      "metadata": {
        "colab": {
          "base_uri": "https://localhost:8080/"
        },
        "id": "hb7UcWb0rdCB",
        "outputId": "1d345e23-63bf-4ff5-c055-1ad94002cb18"
      },
      "execution_count": 18,
      "outputs": [
        {
          "output_type": "stream",
          "name": "stderr",
          "text": [
            "<ipython-input-18-3cccd62c1247>:23: UserWarning: Glyph 4352 (\\N{HANGUL CHOSEONG KIYEOK}) missing from current font.\n",
            "  plt.tight_layout()\n",
            "<ipython-input-18-3cccd62c1247>:23: UserWarning: Glyph 4449 (\\N{HANGUL JUNGSEONG A}) missing from current font.\n",
            "  plt.tight_layout()\n",
            "<ipython-input-18-3cccd62c1247>:23: UserWarning: Glyph 4540 (\\N{HANGUL JONGSEONG IEUNG}) missing from current font.\n",
            "  plt.tight_layout()\n",
            "<ipython-input-18-3cccd62c1247>:23: UserWarning: Glyph 4364 (\\N{HANGUL CHOSEONG CIEUC}) missing from current font.\n",
            "  plt.tight_layout()\n",
            "<ipython-input-18-3cccd62c1247>:23: UserWarning: Glyph 4454 (\\N{HANGUL JUNGSEONG E}) missing from current font.\n",
            "  plt.tight_layout()\n",
            "<ipython-input-18-3cccd62c1247>:23: UserWarning: Glyph 4366 (\\N{HANGUL CHOSEONG CHIEUCH}) missing from current font.\n",
            "  plt.tight_layout()\n",
            "<ipython-input-18-3cccd62c1247>:23: UserWarning: Glyph 4462 (\\N{HANGUL JUNGSEONG U}) missing from current font.\n",
            "  plt.tight_layout()\n",
            "<ipython-input-18-3cccd62c1247>:23: UserWarning: Glyph 4370 (\\N{HANGUL CHOSEONG HIEUH}) missing from current font.\n",
            "  plt.tight_layout()\n",
            "<ipython-input-18-3cccd62c1247>:23: UserWarning: Glyph 4450 (\\N{HANGUL JUNGSEONG AE}) missing from current font.\n",
            "  plt.tight_layout()\n",
            "<ipython-input-18-3cccd62c1247>:23: UserWarning: Glyph 4361 (\\N{HANGUL CHOSEONG SIOS}) missing from current font.\n",
            "  plt.tight_layout()\n",
            "<ipython-input-18-3cccd62c1247>:23: UserWarning: Glyph 4453 (\\N{HANGUL JUNGSEONG EO}) missing from current font.\n",
            "  plt.tight_layout()\n",
            "<ipython-input-18-3cccd62c1247>:23: UserWarning: Glyph 4359 (\\N{HANGUL CHOSEONG PIEUP}) missing from current font.\n",
            "  plt.tight_layout()\n",
            "<ipython-input-18-3cccd62c1247>:23: UserWarning: Glyph 4535 (\\N{HANGUL JONGSEONG MIEUM}) missing from current font.\n",
            "  plt.tight_layout()\n",
            "<ipython-input-18-3cccd62c1247>:23: UserWarning: Glyph 4460 (\\N{HANGUL JUNGSEONG OE}) missing from current font.\n",
            "  plt.tight_layout()\n",
            "<ipython-input-18-3cccd62c1247>:29: UserWarning: Glyph 4352 (\\N{HANGUL CHOSEONG KIYEOK}) missing from current font.\n",
            "  plt.savefig(spect_file, dpi=100)\n",
            "<ipython-input-18-3cccd62c1247>:29: UserWarning: Glyph 4449 (\\N{HANGUL JUNGSEONG A}) missing from current font.\n",
            "  plt.savefig(spect_file, dpi=100)\n",
            "<ipython-input-18-3cccd62c1247>:29: UserWarning: Glyph 4540 (\\N{HANGUL JONGSEONG IEUNG}) missing from current font.\n",
            "  plt.savefig(spect_file, dpi=100)\n",
            "<ipython-input-18-3cccd62c1247>:29: UserWarning: Glyph 4364 (\\N{HANGUL CHOSEONG CIEUC}) missing from current font.\n",
            "  plt.savefig(spect_file, dpi=100)\n",
            "<ipython-input-18-3cccd62c1247>:29: UserWarning: Glyph 4454 (\\N{HANGUL JUNGSEONG E}) missing from current font.\n",
            "  plt.savefig(spect_file, dpi=100)\n",
            "<ipython-input-18-3cccd62c1247>:29: UserWarning: Glyph 4366 (\\N{HANGUL CHOSEONG CHIEUCH}) missing from current font.\n",
            "  plt.savefig(spect_file, dpi=100)\n",
            "<ipython-input-18-3cccd62c1247>:29: UserWarning: Glyph 4462 (\\N{HANGUL JUNGSEONG U}) missing from current font.\n",
            "  plt.savefig(spect_file, dpi=100)\n",
            "<ipython-input-18-3cccd62c1247>:29: UserWarning: Glyph 4370 (\\N{HANGUL CHOSEONG HIEUH}) missing from current font.\n",
            "  plt.savefig(spect_file, dpi=100)\n",
            "<ipython-input-18-3cccd62c1247>:29: UserWarning: Glyph 4450 (\\N{HANGUL JUNGSEONG AE}) missing from current font.\n",
            "  plt.savefig(spect_file, dpi=100)\n",
            "<ipython-input-18-3cccd62c1247>:29: UserWarning: Glyph 4361 (\\N{HANGUL CHOSEONG SIOS}) missing from current font.\n",
            "  plt.savefig(spect_file, dpi=100)\n",
            "<ipython-input-18-3cccd62c1247>:29: UserWarning: Glyph 4453 (\\N{HANGUL JUNGSEONG EO}) missing from current font.\n",
            "  plt.savefig(spect_file, dpi=100)\n",
            "<ipython-input-18-3cccd62c1247>:29: UserWarning: Glyph 4359 (\\N{HANGUL CHOSEONG PIEUP}) missing from current font.\n",
            "  plt.savefig(spect_file, dpi=100)\n",
            "<ipython-input-18-3cccd62c1247>:29: UserWarning: Glyph 4535 (\\N{HANGUL JONGSEONG MIEUM}) missing from current font.\n",
            "  plt.savefig(spect_file, dpi=100)\n",
            "<ipython-input-18-3cccd62c1247>:29: UserWarning: Glyph 4460 (\\N{HANGUL JUNGSEONG OE}) missing from current font.\n",
            "  plt.savefig(spect_file, dpi=100)\n"
          ]
        }
      ]
    },
    {
      "cell_type": "markdown",
      "source": [
        "## 고정된 크기의 스펙트로 그램"
      ],
      "metadata": {
        "id": "rItv31dg0S7i"
      }
    },
    {
      "cell_type": "code",
      "source": [
        "# 고정된 크기로 spectrogram을 생성\n",
        "import os\n",
        "import librosa\n",
        "import librosa.display\n",
        "import numpy as np\n",
        "import matplotlib.pyplot as plt\n",
        "\n",
        "# Step 1: Preprocess the audio files and save the spectrograms as images\n",
        "\n",
        "# Define the fixed shape of the spectrograms\n",
        "# A common choice is to set the height to 128 pixels and the width to 128-256 pixels\n",
        "img_height, img_width = 128, 256\n",
        "\n",
        "path = '/content/drive/MyDrive/졸플/Audio_study/'\n",
        "\n",
        "# Define the input directory for the audio files\n",
        "audio_dir = os.path.join(path,'data')\n",
        "\n",
        "# Define the output directory for the spectrogram images\n",
        "spec_dir = os.path.join(path,'spectrogram_fixed')\n",
        "if not os.path.exists(spec_dir):\n",
        "    os.makedirs(spec_dir)\n",
        "\n",
        "# Loop over all the audio files in the input directory\n",
        "for filename in os.listdir(audio_dir):\n",
        "    if filename.endswith('.wav'):\n",
        "        # Load the audio file\n",
        "        filepath = os.path.join(audio_dir, filename)\n",
        "        y, sr = librosa.load(filepath, sr=22050)\n",
        "\n",
        "        # Generate the spectrogram\n",
        "        S = librosa.feature.melspectrogram(y=y, sr=sr)\n",
        "        S_db = librosa.power_to_db(S, ref=np.max)\n",
        "\n",
        "        # Resize the spectrogram to the fixed shape\n",
        "        S_resized = librosa.util.fix_length(S_db, img_width)\n",
        "\n",
        "        # Save the spectrogram as an image file\n",
        "        spec_filename = filename[:-4] + '.png'\n",
        "        spec_filepath = os.path.join(spec_dir, spec_filename)\n",
        "        plt.imsave(spec_filepath, S_resized)\n"
      ],
      "metadata": {
        "id": "PajUi9Evrh_p"
      },
      "execution_count": 21,
      "outputs": []
    },
    {
      "cell_type": "code",
      "source": [],
      "metadata": {
        "id": "6v63AAvkxkFc"
      },
      "execution_count": null,
      "outputs": []
    }
  ]
}