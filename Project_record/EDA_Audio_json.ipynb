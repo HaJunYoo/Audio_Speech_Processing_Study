{
 "cells": [
  {
   "cell_type": "code",
   "execution_count": 1,
   "metadata": {
    "collapsed": true
   },
   "outputs": [],
   "source": [
    "import numpy as np\n",
    "import pandas as pd"
   ]
  },
  {
   "cell_type": "code",
   "execution_count": 10,
   "outputs": [
    {
     "data": {
      "text/plain": "   fileSize  duration             audio_id  area_start  area_end category_01  \\\n0    184382      2.09  2.강도범죄_352380_label       0.045     2.455        치안안전   \n1    184382      2.09  2.강도범죄_352512_label       0.045     2.805        치안안전   \n2    184382      2.09  2.강도범죄_352620_label       0.045     2.575        치안안전   \n3    184382      2.09  2.강도범죄_352838_label       0.045     2.925        치안안전   \n4    184382      2.09  2.강도범죄_352869_label       0.045     2.685        치안안전   \n\n  category_02        category_03   note audioType  gender generation   dialect  \n0        강도범죄  남_치안안전_죽고싶어_입막음소리    죽을래     voice    male      adult  standard  \n1        강도범죄  여_치안안전_죽고싶어_입막음소리   죽고싶어     voice  female      adult  standard  \n2        강도범죄  남_치안안전_죽고싶어_입막음소리    죽을래     voice    male      adult  standard  \n3        강도범죄  여_치안안전_죽고싶어_입막음소리  죽여버린다     voice  female      adult  standard  \n4        강도범죄  남_치안안전_죽고싶어_입막음소리   죽고싶어     voice    male      adult  standard  ",
      "text/html": "<div>\n<style scoped>\n    .dataframe tbody tr th:only-of-type {\n        vertical-align: middle;\n    }\n\n    .dataframe tbody tr th {\n        vertical-align: top;\n    }\n\n    .dataframe thead th {\n        text-align: right;\n    }\n</style>\n<table border=\"1\" class=\"dataframe\">\n  <thead>\n    <tr style=\"text-align: right;\">\n      <th></th>\n      <th>fileSize</th>\n      <th>duration</th>\n      <th>audio_id</th>\n      <th>area_start</th>\n      <th>area_end</th>\n      <th>category_01</th>\n      <th>category_02</th>\n      <th>category_03</th>\n      <th>note</th>\n      <th>audioType</th>\n      <th>gender</th>\n      <th>generation</th>\n      <th>dialect</th>\n    </tr>\n  </thead>\n  <tbody>\n    <tr>\n      <th>0</th>\n      <td>184382</td>\n      <td>2.09</td>\n      <td>2.강도범죄_352380_label</td>\n      <td>0.045</td>\n      <td>2.455</td>\n      <td>치안안전</td>\n      <td>강도범죄</td>\n      <td>남_치안안전_죽고싶어_입막음소리</td>\n      <td>죽을래</td>\n      <td>voice</td>\n      <td>male</td>\n      <td>adult</td>\n      <td>standard</td>\n    </tr>\n    <tr>\n      <th>1</th>\n      <td>184382</td>\n      <td>2.09</td>\n      <td>2.강도범죄_352512_label</td>\n      <td>0.045</td>\n      <td>2.805</td>\n      <td>치안안전</td>\n      <td>강도범죄</td>\n      <td>여_치안안전_죽고싶어_입막음소리</td>\n      <td>죽고싶어</td>\n      <td>voice</td>\n      <td>female</td>\n      <td>adult</td>\n      <td>standard</td>\n    </tr>\n    <tr>\n      <th>2</th>\n      <td>184382</td>\n      <td>2.09</td>\n      <td>2.강도범죄_352620_label</td>\n      <td>0.045</td>\n      <td>2.575</td>\n      <td>치안안전</td>\n      <td>강도범죄</td>\n      <td>남_치안안전_죽고싶어_입막음소리</td>\n      <td>죽을래</td>\n      <td>voice</td>\n      <td>male</td>\n      <td>adult</td>\n      <td>standard</td>\n    </tr>\n    <tr>\n      <th>3</th>\n      <td>184382</td>\n      <td>2.09</td>\n      <td>2.강도범죄_352838_label</td>\n      <td>0.045</td>\n      <td>2.925</td>\n      <td>치안안전</td>\n      <td>강도범죄</td>\n      <td>여_치안안전_죽고싶어_입막음소리</td>\n      <td>죽여버린다</td>\n      <td>voice</td>\n      <td>female</td>\n      <td>adult</td>\n      <td>standard</td>\n    </tr>\n    <tr>\n      <th>4</th>\n      <td>184382</td>\n      <td>2.09</td>\n      <td>2.강도범죄_352869_label</td>\n      <td>0.045</td>\n      <td>2.685</td>\n      <td>치안안전</td>\n      <td>강도범죄</td>\n      <td>남_치안안전_죽고싶어_입막음소리</td>\n      <td>죽고싶어</td>\n      <td>voice</td>\n      <td>male</td>\n      <td>adult</td>\n      <td>standard</td>\n    </tr>\n  </tbody>\n</table>\n</div>"
     },
     "metadata": {},
     "output_type": "display_data"
    },
    {
     "data": {
      "text/plain": "       fileSize  duration            audio_id  area_start  area_end  \\\n71565  18003572   102.061  15.실내_915418_label         3.0    99.061   \n71566  19260428   100.314  15.실내_892249_label         3.0    97.315   \n71567  19641972   111.349  15.실내_915841_label         3.0   108.349   \n71568  20784140   108.250  15.실내_918360_label         3.0   105.251   \n71569  37628752   426.629  15.실내_906200_label         3.0   423.629   \n\n      category_01 category_02 category_03      note audioType gender  \\\n71565      일반(정상)          실내       실내_주방   전자레인지소리     sound    NaN   \n71566      일반(정상)          실내       실내_공통  악기 이용 소리     sound    NaN   \n71567      일반(정상)          실내       실내_주방  기름튀기는 소리     sound    NaN   \n71568      일반(정상)          실내      실내_화장실   얼굴을씻는소리     sound    NaN   \n71569      일반(정상)          실내       실내_주방     밥솥 소리     sound    NaN   \n\n      generation dialect  \n71565        NaN     NaN  \n71566        NaN     NaN  \n71567        NaN     NaN  \n71568        NaN     NaN  \n71569        NaN     NaN  ",
      "text/html": "<div>\n<style scoped>\n    .dataframe tbody tr th:only-of-type {\n        vertical-align: middle;\n    }\n\n    .dataframe tbody tr th {\n        vertical-align: top;\n    }\n\n    .dataframe thead th {\n        text-align: right;\n    }\n</style>\n<table border=\"1\" class=\"dataframe\">\n  <thead>\n    <tr style=\"text-align: right;\">\n      <th></th>\n      <th>fileSize</th>\n      <th>duration</th>\n      <th>audio_id</th>\n      <th>area_start</th>\n      <th>area_end</th>\n      <th>category_01</th>\n      <th>category_02</th>\n      <th>category_03</th>\n      <th>note</th>\n      <th>audioType</th>\n      <th>gender</th>\n      <th>generation</th>\n      <th>dialect</th>\n    </tr>\n  </thead>\n  <tbody>\n    <tr>\n      <th>71565</th>\n      <td>18003572</td>\n      <td>102.061</td>\n      <td>15.실내_915418_label</td>\n      <td>3.0</td>\n      <td>99.061</td>\n      <td>일반(정상)</td>\n      <td>실내</td>\n      <td>실내_주방</td>\n      <td>전자레인지소리</td>\n      <td>sound</td>\n      <td>NaN</td>\n      <td>NaN</td>\n      <td>NaN</td>\n    </tr>\n    <tr>\n      <th>71566</th>\n      <td>19260428</td>\n      <td>100.314</td>\n      <td>15.실내_892249_label</td>\n      <td>3.0</td>\n      <td>97.315</td>\n      <td>일반(정상)</td>\n      <td>실내</td>\n      <td>실내_공통</td>\n      <td>악기 이용 소리</td>\n      <td>sound</td>\n      <td>NaN</td>\n      <td>NaN</td>\n      <td>NaN</td>\n    </tr>\n    <tr>\n      <th>71567</th>\n      <td>19641972</td>\n      <td>111.349</td>\n      <td>15.실내_915841_label</td>\n      <td>3.0</td>\n      <td>108.349</td>\n      <td>일반(정상)</td>\n      <td>실내</td>\n      <td>실내_주방</td>\n      <td>기름튀기는 소리</td>\n      <td>sound</td>\n      <td>NaN</td>\n      <td>NaN</td>\n      <td>NaN</td>\n    </tr>\n    <tr>\n      <th>71568</th>\n      <td>20784140</td>\n      <td>108.250</td>\n      <td>15.실내_918360_label</td>\n      <td>3.0</td>\n      <td>105.251</td>\n      <td>일반(정상)</td>\n      <td>실내</td>\n      <td>실내_화장실</td>\n      <td>얼굴을씻는소리</td>\n      <td>sound</td>\n      <td>NaN</td>\n      <td>NaN</td>\n      <td>NaN</td>\n    </tr>\n    <tr>\n      <th>71569</th>\n      <td>37628752</td>\n      <td>426.629</td>\n      <td>15.실내_906200_label</td>\n      <td>3.0</td>\n      <td>423.629</td>\n      <td>일반(정상)</td>\n      <td>실내</td>\n      <td>실내_주방</td>\n      <td>밥솥 소리</td>\n      <td>sound</td>\n      <td>NaN</td>\n      <td>NaN</td>\n      <td>NaN</td>\n    </tr>\n  </tbody>\n</table>\n</div>"
     },
     "metadata": {},
     "output_type": "display_data"
    }
   ],
   "source": [
    "from IPython.core.display_functions import display\n",
    "\n",
    "csv_filename = '2023-02-06-강제추행,강제범,실내.csv'\n",
    "df = pd.read_csv(csv_filename, encoding='utf8', low_memory=False)\n",
    "pd.set_option('display.max_columns', None)\n",
    "display(df.head())\n",
    "display(df.tail())"
   ],
   "metadata": {
    "collapsed": false,
    "pycharm": {
     "name": "#%%\n"
    }
   }
  },
  {
   "cell_type": "code",
   "execution_count": 13,
   "outputs": [
    {
     "data": {
      "text/plain": "category_02\n강도범죄         19490\n강제추행(성범죄)    20925\n실내           31155\nName: audio_id, dtype: int64"
     },
     "execution_count": 13,
     "metadata": {},
     "output_type": "execute_result"
    }
   ],
   "source": [
    "df.groupby('category_02')['audio_id'].count()\n",
    "# 카테고리_02를 통해 분류해야할 듯"
   ],
   "metadata": {
    "collapsed": false,
    "pycharm": {
     "name": "#%%\n"
    }
   }
  },
  {
   "cell_type": "code",
   "execution_count": 20,
   "outputs": [
    {
     "data": {
      "text/plain": "category_03\n남_노인_강도범죄_꼼짝 말고 있어_입막음소리      120\n남_노인_강도범죄_꼼짝마_입막음소리           115\n남_노인_강도범죄_돈 내놔_비명소리           263\n남_노인_강도범죄_반항하면 죽는다_입막음소리      121\n남_노인_강도범죄_빨리 안 내놔_비명소리        260\n                            ...  \n여_치안안전_죽고싶어_입막음소리            2835\n여_치안안전_짜증나게하지마_입막음소리         3971\n여_치안안전_추행을 당하는 상황              33\n여_치안안전_추행을 당하는 상황_비명 소리     15283\n여_치안안전_협박하는상황                 142\nName: audio_id, Length: 72, dtype: int64"
     },
     "execution_count": 20,
     "metadata": {},
     "output_type": "execute_result"
    }
   ],
   "source": [
    "df.groupby('category_03')['audio_id'].count()\n",
    "# 종류가 너무 많음"
   ],
   "metadata": {
    "collapsed": false,
    "pycharm": {
     "name": "#%%\n"
    }
   }
  },
  {
   "cell_type": "code",
   "execution_count": 12,
   "outputs": [
    {
     "data": {
      "text/plain": "gender\nfemale    33187\nmale       7228\nNaN       31155\nName: audio_id, dtype: int64"
     },
     "execution_count": 12,
     "metadata": {},
     "output_type": "execute_result"
    }
   ],
   "source": [
    "df.groupby(['gender'], dropna=False)['audio_id'].count()"
   ],
   "metadata": {
    "collapsed": false,
    "pycharm": {
     "name": "#%%\n"
    }
   }
  },
  {
   "cell_type": "code",
   "execution_count": 18,
   "outputs": [
    {
     "data": {
      "text/plain": "dialect\nstandard    40415\nNaN         31155\nName: audio_id, dtype: int64"
     },
     "execution_count": 18,
     "metadata": {},
     "output_type": "execute_result"
    }
   ],
   "source": [
    "df.groupby(['dialect'], dropna=False)['audio_id'].count()"
   ],
   "metadata": {
    "collapsed": false,
    "pycharm": {
     "name": "#%%\n"
    }
   }
  },
  {
   "cell_type": "code",
   "execution_count": 19,
   "outputs": [
    {
     "data": {
      "text/plain": "generation\nadult       27239\nchild         577\nsenior       6379\nteenager     6220\nNaN         31155\nName: audio_id, dtype: int64"
     },
     "execution_count": 19,
     "metadata": {},
     "output_type": "execute_result"
    }
   ],
   "source": [
    "df.groupby(['generation'], dropna=False)['audio_id'].count()"
   ],
   "metadata": {
    "collapsed": false,
    "pycharm": {
     "name": "#%%\n"
    }
   }
  },
  {
   "cell_type": "code",
   "execution_count": 17,
   "outputs": [
    {
     "data": {
      "text/plain": "           duration    area_start      area_end\ncount  71570.000000  71570.000000  71570.000000\nmean      29.929461      4.440673     24.884389\nstd       20.506703      3.122621     21.044484\nmin        2.090000      0.045000      2.405000\n25%       10.140000      3.000000      6.240000\n50%       30.000000      3.700000     13.718000\n75%       40.742250      4.000000     38.139000\nmax      426.629000     18.876500    423.629000",
      "text/html": "<div>\n<style scoped>\n    .dataframe tbody tr th:only-of-type {\n        vertical-align: middle;\n    }\n\n    .dataframe tbody tr th {\n        vertical-align: top;\n    }\n\n    .dataframe thead th {\n        text-align: right;\n    }\n</style>\n<table border=\"1\" class=\"dataframe\">\n  <thead>\n    <tr style=\"text-align: right;\">\n      <th></th>\n      <th>duration</th>\n      <th>area_start</th>\n      <th>area_end</th>\n    </tr>\n  </thead>\n  <tbody>\n    <tr>\n      <th>count</th>\n      <td>71570.000000</td>\n      <td>71570.000000</td>\n      <td>71570.000000</td>\n    </tr>\n    <tr>\n      <th>mean</th>\n      <td>29.929461</td>\n      <td>4.440673</td>\n      <td>24.884389</td>\n    </tr>\n    <tr>\n      <th>std</th>\n      <td>20.506703</td>\n      <td>3.122621</td>\n      <td>21.044484</td>\n    </tr>\n    <tr>\n      <th>min</th>\n      <td>2.090000</td>\n      <td>0.045000</td>\n      <td>2.405000</td>\n    </tr>\n    <tr>\n      <th>25%</th>\n      <td>10.140000</td>\n      <td>3.000000</td>\n      <td>6.240000</td>\n    </tr>\n    <tr>\n      <th>50%</th>\n      <td>30.000000</td>\n      <td>3.700000</td>\n      <td>13.718000</td>\n    </tr>\n    <tr>\n      <th>75%</th>\n      <td>40.742250</td>\n      <td>4.000000</td>\n      <td>38.139000</td>\n    </tr>\n    <tr>\n      <th>max</th>\n      <td>426.629000</td>\n      <td>18.876500</td>\n      <td>423.629000</td>\n    </tr>\n  </tbody>\n</table>\n</div>"
     },
     "execution_count": 17,
     "metadata": {},
     "output_type": "execute_result"
    }
   ],
   "source": [
    "df[['duration','area_start', 'area_end']].describe()"
   ],
   "metadata": {
    "collapsed": false,
    "pycharm": {
     "name": "#%%\n"
    }
   }
  },
  {
   "cell_type": "code",
   "execution_count": 22,
   "outputs": [
    {
     "name": "stderr",
     "output_type": "stream",
     "text": [
      "/opt/anaconda3/lib/python3.7/site-packages/ipykernel_launcher.py:1: FutureWarning: Indexing with multiple keys (implicitly converted to a tuple of keys) will be deprecated, use a list instead.\n",
      "  \"\"\"Entry point for launching an IPython kernel.\n"
     ]
    },
    {
     "data": {
      "text/plain": "              duration                 area_start                   area_end  \\\n                  mean      max    min       mean      max    min       mean   \ncategory_02                                                                    \n강도범죄         14.881141   39.753  2.090   5.824977  18.8765  0.045   8.906141   \n강제추행(성범죄)    15.377059   30.000  5.360   5.298614   9.0000  2.500   8.150938   \n실내           49.117416  426.629  6.811   2.998448   5.0000  2.000  46.118974   \n\n                              \n                  max    min  \ncategory_02                   \n강도범죄          22.7865  2.405  \n강제추행(성범죄)     20.0130  2.860  \n실내           423.6290  3.811  ",
      "text/html": "<div>\n<style scoped>\n    .dataframe tbody tr th:only-of-type {\n        vertical-align: middle;\n    }\n\n    .dataframe tbody tr th {\n        vertical-align: top;\n    }\n\n    .dataframe thead tr th {\n        text-align: left;\n    }\n\n    .dataframe thead tr:last-of-type th {\n        text-align: right;\n    }\n</style>\n<table border=\"1\" class=\"dataframe\">\n  <thead>\n    <tr>\n      <th></th>\n      <th colspan=\"3\" halign=\"left\">duration</th>\n      <th colspan=\"3\" halign=\"left\">area_start</th>\n      <th colspan=\"3\" halign=\"left\">area_end</th>\n    </tr>\n    <tr>\n      <th></th>\n      <th>mean</th>\n      <th>max</th>\n      <th>min</th>\n      <th>mean</th>\n      <th>max</th>\n      <th>min</th>\n      <th>mean</th>\n      <th>max</th>\n      <th>min</th>\n    </tr>\n    <tr>\n      <th>category_02</th>\n      <th></th>\n      <th></th>\n      <th></th>\n      <th></th>\n      <th></th>\n      <th></th>\n      <th></th>\n      <th></th>\n      <th></th>\n    </tr>\n  </thead>\n  <tbody>\n    <tr>\n      <th>강도범죄</th>\n      <td>14.881141</td>\n      <td>39.753</td>\n      <td>2.090</td>\n      <td>5.824977</td>\n      <td>18.8765</td>\n      <td>0.045</td>\n      <td>8.906141</td>\n      <td>22.7865</td>\n      <td>2.405</td>\n    </tr>\n    <tr>\n      <th>강제추행(성범죄)</th>\n      <td>15.377059</td>\n      <td>30.000</td>\n      <td>5.360</td>\n      <td>5.298614</td>\n      <td>9.0000</td>\n      <td>2.500</td>\n      <td>8.150938</td>\n      <td>20.0130</td>\n      <td>2.860</td>\n    </tr>\n    <tr>\n      <th>실내</th>\n      <td>49.117416</td>\n      <td>426.629</td>\n      <td>6.811</td>\n      <td>2.998448</td>\n      <td>5.0000</td>\n      <td>2.000</td>\n      <td>46.118974</td>\n      <td>423.6290</td>\n      <td>3.811</td>\n    </tr>\n  </tbody>\n</table>\n</div>"
     },
     "execution_count": 22,
     "metadata": {},
     "output_type": "execute_result"
    }
   ],
   "source": [
    "df.groupby('category_02')['duration','area_start', 'area_end'].agg(['mean', 'max', 'min'])\n",
    "# 실내 duration max가 지나치게 크다"
   ],
   "metadata": {
    "collapsed": false,
    "pycharm": {
     "name": "#%%\n"
    }
   }
  },
  {
   "cell_type": "code",
   "execution_count": 26,
   "outputs": [
    {
     "data": {
      "text/plain": "           duration    area_start      area_end\ncount  19490.000000  19490.000000  19490.000000\nmean      14.881141      5.824977      8.906141\nstd       10.405116      4.810202      5.001641\nmin        2.090000      0.045000      2.405000\n25%        7.941000      3.000000      5.330500\n50%        9.456000      3.156500      6.678250\n75%       19.551000      8.775500     11.632750\nmax       39.753000     18.876500     22.786500",
      "text/html": "<div>\n<style scoped>\n    .dataframe tbody tr th:only-of-type {\n        vertical-align: middle;\n    }\n\n    .dataframe tbody tr th {\n        vertical-align: top;\n    }\n\n    .dataframe thead th {\n        text-align: right;\n    }\n</style>\n<table border=\"1\" class=\"dataframe\">\n  <thead>\n    <tr style=\"text-align: right;\">\n      <th></th>\n      <th>duration</th>\n      <th>area_start</th>\n      <th>area_end</th>\n    </tr>\n  </thead>\n  <tbody>\n    <tr>\n      <th>count</th>\n      <td>19490.000000</td>\n      <td>19490.000000</td>\n      <td>19490.000000</td>\n    </tr>\n    <tr>\n      <th>mean</th>\n      <td>14.881141</td>\n      <td>5.824977</td>\n      <td>8.906141</td>\n    </tr>\n    <tr>\n      <th>std</th>\n      <td>10.405116</td>\n      <td>4.810202</td>\n      <td>5.001641</td>\n    </tr>\n    <tr>\n      <th>min</th>\n      <td>2.090000</td>\n      <td>0.045000</td>\n      <td>2.405000</td>\n    </tr>\n    <tr>\n      <th>25%</th>\n      <td>7.941000</td>\n      <td>3.000000</td>\n      <td>5.330500</td>\n    </tr>\n    <tr>\n      <th>50%</th>\n      <td>9.456000</td>\n      <td>3.156500</td>\n      <td>6.678250</td>\n    </tr>\n    <tr>\n      <th>75%</th>\n      <td>19.551000</td>\n      <td>8.775500</td>\n      <td>11.632750</td>\n    </tr>\n    <tr>\n      <th>max</th>\n      <td>39.753000</td>\n      <td>18.876500</td>\n      <td>22.786500</td>\n    </tr>\n  </tbody>\n</table>\n</div>"
     },
     "execution_count": 26,
     "metadata": {},
     "output_type": "execute_result"
    }
   ],
   "source": [
    "df[df['category_02'] == '강도범죄'][['duration','area_start', 'area_end']].describe()"
   ],
   "metadata": {
    "collapsed": false,
    "pycharm": {
     "name": "#%%\n"
    }
   }
  },
  {
   "cell_type": "code",
   "execution_count": 27,
   "outputs": [
    {
     "data": {
      "text/plain": "           duration    area_start      area_end\ncount  20925.000000  20925.000000  20925.000000\nmean      15.377059      5.298614      8.150938\nstd        8.724041      2.206293      3.396090\nmin        5.360000      2.500000      2.860000\n25%        9.970000      4.000000      5.970000\n50%       10.340000      4.000000      6.340000\n75%       30.000000      9.000000     12.142000\nmax       30.000000      9.000000     20.013000",
      "text/html": "<div>\n<style scoped>\n    .dataframe tbody tr th:only-of-type {\n        vertical-align: middle;\n    }\n\n    .dataframe tbody tr th {\n        vertical-align: top;\n    }\n\n    .dataframe thead th {\n        text-align: right;\n    }\n</style>\n<table border=\"1\" class=\"dataframe\">\n  <thead>\n    <tr style=\"text-align: right;\">\n      <th></th>\n      <th>duration</th>\n      <th>area_start</th>\n      <th>area_end</th>\n    </tr>\n  </thead>\n  <tbody>\n    <tr>\n      <th>count</th>\n      <td>20925.000000</td>\n      <td>20925.000000</td>\n      <td>20925.000000</td>\n    </tr>\n    <tr>\n      <th>mean</th>\n      <td>15.377059</td>\n      <td>5.298614</td>\n      <td>8.150938</td>\n    </tr>\n    <tr>\n      <th>std</th>\n      <td>8.724041</td>\n      <td>2.206293</td>\n      <td>3.396090</td>\n    </tr>\n    <tr>\n      <th>min</th>\n      <td>5.360000</td>\n      <td>2.500000</td>\n      <td>2.860000</td>\n    </tr>\n    <tr>\n      <th>25%</th>\n      <td>9.970000</td>\n      <td>4.000000</td>\n      <td>5.970000</td>\n    </tr>\n    <tr>\n      <th>50%</th>\n      <td>10.340000</td>\n      <td>4.000000</td>\n      <td>6.340000</td>\n    </tr>\n    <tr>\n      <th>75%</th>\n      <td>30.000000</td>\n      <td>9.000000</td>\n      <td>12.142000</td>\n    </tr>\n    <tr>\n      <th>max</th>\n      <td>30.000000</td>\n      <td>9.000000</td>\n      <td>20.013000</td>\n    </tr>\n  </tbody>\n</table>\n</div>"
     },
     "execution_count": 27,
     "metadata": {},
     "output_type": "execute_result"
    }
   ],
   "source": [
    "df[df['category_02'] == '강제추행(성범죄)'][['duration','area_start', 'area_end']].describe()"
   ],
   "metadata": {
    "collapsed": false,
    "pycharm": {
     "name": "#%%\n"
    }
   }
  },
  {
   "cell_type": "code",
   "execution_count": 25,
   "outputs": [
    {
     "data": {
      "text/plain": "           duration    area_start      area_end\ncount  31155.000000  31155.000000  31155.000000\nmean      49.117416      2.998448     46.118974\nstd       13.968318      0.939683     13.974351\nmin        6.811000      2.000000      3.811000\n25%       36.600000      2.000000     33.300000\n50%       42.953000      3.000000     40.367000\n75%       64.000000      3.700000     62.000000\nmax      426.629000      5.000000    423.629000",
      "text/html": "<div>\n<style scoped>\n    .dataframe tbody tr th:only-of-type {\n        vertical-align: middle;\n    }\n\n    .dataframe tbody tr th {\n        vertical-align: top;\n    }\n\n    .dataframe thead th {\n        text-align: right;\n    }\n</style>\n<table border=\"1\" class=\"dataframe\">\n  <thead>\n    <tr style=\"text-align: right;\">\n      <th></th>\n      <th>duration</th>\n      <th>area_start</th>\n      <th>area_end</th>\n    </tr>\n  </thead>\n  <tbody>\n    <tr>\n      <th>count</th>\n      <td>31155.000000</td>\n      <td>31155.000000</td>\n      <td>31155.000000</td>\n    </tr>\n    <tr>\n      <th>mean</th>\n      <td>49.117416</td>\n      <td>2.998448</td>\n      <td>46.118974</td>\n    </tr>\n    <tr>\n      <th>std</th>\n      <td>13.968318</td>\n      <td>0.939683</td>\n      <td>13.974351</td>\n    </tr>\n    <tr>\n      <th>min</th>\n      <td>6.811000</td>\n      <td>2.000000</td>\n      <td>3.811000</td>\n    </tr>\n    <tr>\n      <th>25%</th>\n      <td>36.600000</td>\n      <td>2.000000</td>\n      <td>33.300000</td>\n    </tr>\n    <tr>\n      <th>50%</th>\n      <td>42.953000</td>\n      <td>3.000000</td>\n      <td>40.367000</td>\n    </tr>\n    <tr>\n      <th>75%</th>\n      <td>64.000000</td>\n      <td>3.700000</td>\n      <td>62.000000</td>\n    </tr>\n    <tr>\n      <th>max</th>\n      <td>426.629000</td>\n      <td>5.000000</td>\n      <td>423.629000</td>\n    </tr>\n  </tbody>\n</table>\n</div>"
     },
     "execution_count": 25,
     "metadata": {},
     "output_type": "execute_result"
    }
   ],
   "source": [
    "df[df['category_02'] == '실내'][['duration','area_start', 'area_end']].describe()"
   ],
   "metadata": {
    "collapsed": false,
    "pycharm": {
     "name": "#%%\n"
    }
   }
  },
  {
   "cell_type": "code",
   "execution_count": 29,
   "outputs": [
    {
     "data": {
      "text/plain": "           fileSize      duration    area_start      area_end\ncount  5.258500e+04  52585.000000  52585.000000  52585.000000\nmean   2.837601e+06     19.988971      4.953157     14.213203\nstd    2.460543e+06     12.298020      3.445426     11.162194\nmin    1.843820e+05      2.090000      0.045000      2.405000\n25%    8.679100e+05      9.840000      3.000000      5.990000\n50%    9.994380e+05     11.331000      4.000000      7.505500\n75%    5.292044e+06     33.158000      4.665500     18.688000\nmax    1.356017e+07     39.753000     18.876500     37.740000",
      "text/html": "<div>\n<style scoped>\n    .dataframe tbody tr th:only-of-type {\n        vertical-align: middle;\n    }\n\n    .dataframe tbody tr th {\n        vertical-align: top;\n    }\n\n    .dataframe thead th {\n        text-align: right;\n    }\n</style>\n<table border=\"1\" class=\"dataframe\">\n  <thead>\n    <tr style=\"text-align: right;\">\n      <th></th>\n      <th>fileSize</th>\n      <th>duration</th>\n      <th>area_start</th>\n      <th>area_end</th>\n    </tr>\n  </thead>\n  <tbody>\n    <tr>\n      <th>count</th>\n      <td>5.258500e+04</td>\n      <td>52585.000000</td>\n      <td>52585.000000</td>\n      <td>52585.000000</td>\n    </tr>\n    <tr>\n      <th>mean</th>\n      <td>2.837601e+06</td>\n      <td>19.988971</td>\n      <td>4.953157</td>\n      <td>14.213203</td>\n    </tr>\n    <tr>\n      <th>std</th>\n      <td>2.460543e+06</td>\n      <td>12.298020</td>\n      <td>3.445426</td>\n      <td>11.162194</td>\n    </tr>\n    <tr>\n      <th>min</th>\n      <td>1.843820e+05</td>\n      <td>2.090000</td>\n      <td>0.045000</td>\n      <td>2.405000</td>\n    </tr>\n    <tr>\n      <th>25%</th>\n      <td>8.679100e+05</td>\n      <td>9.840000</td>\n      <td>3.000000</td>\n      <td>5.990000</td>\n    </tr>\n    <tr>\n      <th>50%</th>\n      <td>9.994380e+05</td>\n      <td>11.331000</td>\n      <td>4.000000</td>\n      <td>7.505500</td>\n    </tr>\n    <tr>\n      <th>75%</th>\n      <td>5.292044e+06</td>\n      <td>33.158000</td>\n      <td>4.665500</td>\n      <td>18.688000</td>\n    </tr>\n    <tr>\n      <th>max</th>\n      <td>1.356017e+07</td>\n      <td>39.753000</td>\n      <td>18.876500</td>\n      <td>37.740000</td>\n    </tr>\n  </tbody>\n</table>\n</div>"
     },
     "execution_count": 29,
     "metadata": {},
     "output_type": "execute_result"
    }
   ],
   "source": [
    "duration_max = df[df['category_02'] == '강도범죄']['duration'].max()\n",
    "# 데이터를 조금 잘라보자\n",
    "df_trun = df[df['duration'] <= duration_max]\n",
    "df_trun.describe()"
   ],
   "metadata": {
    "collapsed": false,
    "pycharm": {
     "name": "#%%\n"
    }
   }
  },
  {
   "cell_type": "code",
   "execution_count": 30,
   "outputs": [
    {
     "name": "stderr",
     "output_type": "stream",
     "text": [
      "/opt/anaconda3/lib/python3.7/site-packages/ipykernel_launcher.py:1: FutureWarning: Indexing with multiple keys (implicitly converted to a tuple of keys) will be deprecated, use a list instead.\n",
      "  \"\"\"Entry point for launching an IPython kernel.\n"
     ]
    },
    {
     "data": {
      "text/plain": "              duration                area_start                   area_end  \\\n                  mean     max    min       mean      max    min       mean   \ncategory_02                                                                   \n강도범죄         14.881141  39.753  2.090   5.824977  18.8765  0.045   8.906141   \n강제추행(성범죄)    15.377059  30.000  5.360   5.298614   9.0000  2.500   8.150938   \n실내           36.098737  39.740  6.811   2.962981   5.0000  2.000  33.135761   \n\n                             \n                 max    min  \ncategory_02                  \n강도범죄         22.7865  2.405  \n강제추행(성범죄)    20.0130  2.860  \n실내           37.7400  3.811  ",
      "text/html": "<div>\n<style scoped>\n    .dataframe tbody tr th:only-of-type {\n        vertical-align: middle;\n    }\n\n    .dataframe tbody tr th {\n        vertical-align: top;\n    }\n\n    .dataframe thead tr th {\n        text-align: left;\n    }\n\n    .dataframe thead tr:last-of-type th {\n        text-align: right;\n    }\n</style>\n<table border=\"1\" class=\"dataframe\">\n  <thead>\n    <tr>\n      <th></th>\n      <th colspan=\"3\" halign=\"left\">duration</th>\n      <th colspan=\"3\" halign=\"left\">area_start</th>\n      <th colspan=\"3\" halign=\"left\">area_end</th>\n    </tr>\n    <tr>\n      <th></th>\n      <th>mean</th>\n      <th>max</th>\n      <th>min</th>\n      <th>mean</th>\n      <th>max</th>\n      <th>min</th>\n      <th>mean</th>\n      <th>max</th>\n      <th>min</th>\n    </tr>\n    <tr>\n      <th>category_02</th>\n      <th></th>\n      <th></th>\n      <th></th>\n      <th></th>\n      <th></th>\n      <th></th>\n      <th></th>\n      <th></th>\n      <th></th>\n    </tr>\n  </thead>\n  <tbody>\n    <tr>\n      <th>강도범죄</th>\n      <td>14.881141</td>\n      <td>39.753</td>\n      <td>2.090</td>\n      <td>5.824977</td>\n      <td>18.8765</td>\n      <td>0.045</td>\n      <td>8.906141</td>\n      <td>22.7865</td>\n      <td>2.405</td>\n    </tr>\n    <tr>\n      <th>강제추행(성범죄)</th>\n      <td>15.377059</td>\n      <td>30.000</td>\n      <td>5.360</td>\n      <td>5.298614</td>\n      <td>9.0000</td>\n      <td>2.500</td>\n      <td>8.150938</td>\n      <td>20.0130</td>\n      <td>2.860</td>\n    </tr>\n    <tr>\n      <th>실내</th>\n      <td>36.098737</td>\n      <td>39.740</td>\n      <td>6.811</td>\n      <td>2.962981</td>\n      <td>5.0000</td>\n      <td>2.000</td>\n      <td>33.135761</td>\n      <td>37.7400</td>\n      <td>3.811</td>\n    </tr>\n  </tbody>\n</table>\n</div>"
     },
     "execution_count": 30,
     "metadata": {},
     "output_type": "execute_result"
    }
   ],
   "source": [
    "df_trun.groupby('category_02')['duration','area_start', 'area_end'].agg(['mean', 'max', 'min'])"
   ],
   "metadata": {
    "collapsed": false,
    "pycharm": {
     "name": "#%%\n"
    }
   }
  },
  {
   "cell_type": "code",
   "execution_count": 31,
   "outputs": [
    {
     "name": "stderr",
     "output_type": "stream",
     "text": [
      "/opt/anaconda3/lib/python3.7/site-packages/ipykernel_launcher.py:1: FutureWarning: Indexing with multiple keys (implicitly converted to a tuple of keys) will be deprecated, use a list instead.\n",
      "  \"\"\"Entry point for launching an IPython kernel.\n"
     ]
    },
    {
     "data": {
      "text/plain": "                  duration  area_start  area_end\ncategory_02                                     \n강도범죄        0.25   7.94100      3.0000   5.33050\n            0.50   9.45600      3.1565   6.67825\n            0.75  19.55100      8.7755  11.63275\n강제추행(성범죄)   0.25   9.97000      4.0000   5.97000\n            0.50  10.34000      4.0000   6.34000\n            0.75  30.00000      9.0000  12.14200\n실내          0.25  36.44125      2.0000  33.30000\n            0.50  36.60000      3.3000  33.30000\n            0.75  37.40400      3.3000  34.02200",
      "text/html": "<div>\n<style scoped>\n    .dataframe tbody tr th:only-of-type {\n        vertical-align: middle;\n    }\n\n    .dataframe tbody tr th {\n        vertical-align: top;\n    }\n\n    .dataframe thead th {\n        text-align: right;\n    }\n</style>\n<table border=\"1\" class=\"dataframe\">\n  <thead>\n    <tr style=\"text-align: right;\">\n      <th></th>\n      <th></th>\n      <th>duration</th>\n      <th>area_start</th>\n      <th>area_end</th>\n    </tr>\n    <tr>\n      <th>category_02</th>\n      <th></th>\n      <th></th>\n      <th></th>\n      <th></th>\n    </tr>\n  </thead>\n  <tbody>\n    <tr>\n      <th rowspan=\"3\" valign=\"top\">강도범죄</th>\n      <th>0.25</th>\n      <td>7.94100</td>\n      <td>3.0000</td>\n      <td>5.33050</td>\n    </tr>\n    <tr>\n      <th>0.50</th>\n      <td>9.45600</td>\n      <td>3.1565</td>\n      <td>6.67825</td>\n    </tr>\n    <tr>\n      <th>0.75</th>\n      <td>19.55100</td>\n      <td>8.7755</td>\n      <td>11.63275</td>\n    </tr>\n    <tr>\n      <th rowspan=\"3\" valign=\"top\">강제추행(성범죄)</th>\n      <th>0.25</th>\n      <td>9.97000</td>\n      <td>4.0000</td>\n      <td>5.97000</td>\n    </tr>\n    <tr>\n      <th>0.50</th>\n      <td>10.34000</td>\n      <td>4.0000</td>\n      <td>6.34000</td>\n    </tr>\n    <tr>\n      <th>0.75</th>\n      <td>30.00000</td>\n      <td>9.0000</td>\n      <td>12.14200</td>\n    </tr>\n    <tr>\n      <th rowspan=\"3\" valign=\"top\">실내</th>\n      <th>0.25</th>\n      <td>36.44125</td>\n      <td>2.0000</td>\n      <td>33.30000</td>\n    </tr>\n    <tr>\n      <th>0.50</th>\n      <td>36.60000</td>\n      <td>3.3000</td>\n      <td>33.30000</td>\n    </tr>\n    <tr>\n      <th>0.75</th>\n      <td>37.40400</td>\n      <td>3.3000</td>\n      <td>34.02200</td>\n    </tr>\n  </tbody>\n</table>\n</div>"
     },
     "execution_count": 31,
     "metadata": {},
     "output_type": "execute_result"
    }
   ],
   "source": [
    "df_trun.groupby('category_02')['duration','area_start', 'area_end'].quantile([0.25, 0.5, 0.75])"
   ],
   "metadata": {
    "collapsed": false,
    "pycharm": {
     "name": "#%%\n"
    }
   }
  },
  {
   "cell_type": "code",
   "execution_count": null,
   "outputs": [],
   "source": [],
   "metadata": {
    "collapsed": false,
    "pycharm": {
     "name": "#%%\n"
    }
   }
  }
 ],
 "metadata": {
  "kernelspec": {
   "name": "base",
   "language": "python",
   "display_name": "base"
  },
  "language_info": {
   "codemirror_mode": {
    "name": "ipython",
    "version": 2
   },
   "file_extension": ".py",
   "mimetype": "text/x-python",
   "name": "python",
   "nbconvert_exporter": "python",
   "pygments_lexer": "ipython2",
   "version": "2.7.6"
  }
 },
 "nbformat": 4,
 "nbformat_minor": 0
}